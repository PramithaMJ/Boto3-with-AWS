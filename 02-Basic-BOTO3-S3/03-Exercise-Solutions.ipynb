{
 "cells": [
  {
   "cell_type": "markdown",
   "id": "2a844d0b-fdaf-439c-9d1b-f849f1a28dd8",
   "metadata": {},
   "source": [
    "![https://pieriantraining.com/](../PTCenteredPurple.png)\n",
    "\n",
    "*Copyright: Pierian Training*"
   ]
  },
  {
   "cell_type": "code",
   "execution_count": null,
   "id": "611c00bc-4848-4277-a011-6798be3ed179",
   "metadata": {},
   "outputs": [],
   "source": [
    "import boto3"
   ]
  },
  {
   "cell_type": "markdown",
   "id": "637b7f4d-8b5c-4ea1-903a-b37f67c65ad5",
   "metadata": {},
   "source": [
    "**Task 1**: List all buckets"
   ]
  },
  {
   "cell_type": "code",
   "execution_count": null,
   "id": "1e1afe31-04e3-45cc-b0b8-e1a967d0c37b",
   "metadata": {},
   "outputs": [],
   "source": [
    "client = boto3.client('s3')\n",
    "[bucket[\"Name\"] for bucket in client.list_buckets()[\"Buckets\"]]"
   ]
  },
  {
   "cell_type": "code",
   "execution_count": null,
   "id": "54070ab0-fdf6-41c4-a0d3-7a3c4c413869",
   "metadata": {},
   "outputs": [],
   "source": [
    "# Alternatively you can use the ressource\n",
    "s3 = boto3.resource('s3')\n",
    "list(s3.buckets.all())"
   ]
  },
  {
   "cell_type": "markdown",
   "id": "c036dcbc-b14a-4b2b-aeda-26bc1f774364",
   "metadata": {},
   "source": [
    "**Task 2:** Create a new bucket of your choice"
   ]
  },
  {
   "cell_type": "code",
   "execution_count": null,
   "id": "aa815948-c041-4201-b3be-4e356a5fe720",
   "metadata": {},
   "outputs": [],
   "source": [
    "client.create_bucket(Bucket=\"my-first-exercise-bucket\")"
   ]
  },
  {
   "cell_type": "markdown",
   "id": "54f4dff0-a89b-485d-893c-e616cbd14bae",
   "metadata": {},
   "source": [
    "**Task 3:** Create a text file and upload it to your bucket"
   ]
  },
  {
   "cell_type": "code",
   "execution_count": null,
   "id": "5a6c8c41-2499-47b0-95a3-ee81d7ed5051",
   "metadata": {},
   "outputs": [],
   "source": [
    "with open(\"Secret_Documents.txt\", \"w\") as f:\n",
    "    f.write(\"Highly classified secrets!\")"
   ]
  },
  {
   "cell_type": "code",
   "execution_count": null,
   "id": "473bb5ca-ba9c-42f1-8341-1258d4dd0b37",
   "metadata": {},
   "outputs": [],
   "source": [
    "client.upload_file(Filename=\"Secret_Documents.txt\", Bucket=\"my-first-exercise-bucket\", Key=\"Secret_Documents_Bucket.txt\")"
   ]
  },
  {
   "cell_type": "markdown",
   "id": "b7a02129-4564-40d8-88d6-efeaea763d39",
   "metadata": {},
   "source": [
    "**Task 4:** List all objects in your bucket"
   ]
  },
  {
   "cell_type": "code",
   "execution_count": null,
   "id": "6ef2332b-4a61-4af1-a64f-004ae1667c7f",
   "metadata": {},
   "outputs": [],
   "source": [
    "s3 = boto3.resource('s3')\n",
    "bucket = s3.Bucket(\"my-first-exercise-bucket\")\n",
    "for file in bucket.objects.all():\n",
    "    print(file.key)"
   ]
  },
  {
   "cell_type": "markdown",
   "id": "5b0ffa3d-cb12-45ca-8027-c7227db43c69",
   "metadata": {},
   "source": [
    "**Task 5:** Create a URL so your friend can download the file within the next 5 minutes"
   ]
  },
  {
   "cell_type": "code",
   "execution_count": null,
   "id": "b73b5003-a1a2-4b9e-bf3f-85d8af0f8b96",
   "metadata": {},
   "outputs": [],
   "source": [
    "url = client.generate_presigned_url(ClientMethod=\"get_object\",  # Name of the boto s3 function\n",
    "                                    Params={\"Bucket\": \"my-first-exercise-bucket\",\n",
    "                                            \"Key\": \"Secret_Documents_Bucket.txt\"},\n",
    "                                    ExpiresIn=300) # expires in 1800 seconds"
   ]
  },
  {
   "cell_type": "code",
   "execution_count": null,
   "id": "042fef08-be3b-473e-be80-9988381d2967",
   "metadata": {},
   "outputs": [],
   "source": [
    "print(url)"
   ]
  },
  {
   "cell_type": "markdown",
   "id": "4b0d407a-89ff-4309-8217-fecd267515ea",
   "metadata": {},
   "source": [
    "**Task 6:** Download the objects and delete it after"
   ]
  },
  {
   "cell_type": "code",
   "execution_count": null,
   "id": "254532e4-9368-4443-81ef-bfec2909942f",
   "metadata": {},
   "outputs": [],
   "source": [
    "bucket.download_file(Key=\"Secret_Documents_Bucket.txt\", Filename=\"Secret_Documents_Bucket.txt\")"
   ]
  },
  {
   "cell_type": "code",
   "execution_count": null,
   "id": "20cab840-93d2-4a67-947a-42dfd396c5c1",
   "metadata": {},
   "outputs": [],
   "source": [
    "client.delete_object(Bucket=\"my-first-exercise-bucket\", Key=\"Secret_Documents_Bucket.txt\")"
   ]
  },
  {
   "cell_type": "markdown",
   "id": "7dee44a0-e3d3-4bac-87b3-ef37d5ff4dd6",
   "metadata": {},
   "source": [
    "**Task 7:** Delete the bucket"
   ]
  },
  {
   "cell_type": "code",
   "execution_count": null,
   "id": "26f3f0df-9a13-41fb-b9ab-a559758b247c",
   "metadata": {},
   "outputs": [],
   "source": [
    "bucket.objects.all().delete()\n",
    "bucket.delete()"
   ]
  }
 ],
 "metadata": {
  "kernelspec": {
   "display_name": "Python 3 (ipykernel)",
   "language": "python",
   "name": "python3"
  },
  "language_info": {
   "codemirror_mode": {
    "name": "ipython",
    "version": 3
   },
   "file_extension": ".py",
   "mimetype": "text/x-python",
   "name": "python",
   "nbconvert_exporter": "python",
   "pygments_lexer": "ipython3",
   "version": "3.9.12"
  }
 },
 "nbformat": 4,
 "nbformat_minor": 5
}

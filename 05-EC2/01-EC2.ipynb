{
 "cells": [
  {
   "cell_type": "markdown",
   "id": "48588fc4-796c-4180-ac97-a464baba51a1",
   "metadata": {},
   "source": [
    "![https://pieriantraining.com/](../PTCenteredPurple.png)"
   ]
  },
  {
   "cell_type": "markdown",
   "id": "7929adab-92c3-406a-b0a8-d2d0e172df7c",
   "metadata": {},
   "source": [
    "In this lecture we will use boto3 to create and manage, as well as use, [Amazon EC2](https://aws.amazon.com/ec2/) instances"
   ]
  },
  {
   "cell_type": "markdown",
   "id": "1603c9a7-a5bb-421f-9cea-c3d41c6a075c",
   "metadata": {},
   "source": [
    "## Interacting with EC2 instances"
   ]
  },
  {
   "cell_type": "markdown",
   "id": "b49cd421-0d53-4d16-925d-f728c5a6d1e7",
   "metadata": {},
   "source": [
    "## Create an EC2 instance\n",
    "The first task we want to achieve is to create an ec2 instance using boto3. <br />\n",
    "You can find the documentation on how to use the service ressources for ec2 [here](https://boto3.amazonaws.com/v1/documentation/api/latest/reference/services/ec2/service-resource/index.html)<br />\n",
    "The function of interest for us is create_instances(**kwargs) [Doc](https://boto3.amazonaws.com/v1/documentation/api/latest/reference/services/ec2/service-resource/create_instances.html)\n",
    "\n",
    "Before we start, we need to obtain an Amazon Machine Image: [AMI](https://docs.aws.amazon.com/AWSEC2/latest/UserGuide/AMIs.html) <br />\n",
    "There are many ways to obtain such an image. However, for our cases, we can use a predefined image by ubuntu [Link](https://cloud-images.ubuntu.com/locator/ec2/)\n",
    "\n",
    "Let's use the *us-east-1 ubuntu20.04* image using the *amd64* architecture. The corresponding ID is **ami-0a3db6a6bb59b68d3**\n",
    "\n",
    "Next, let's define the [instance type](https://docs.aws.amazon.com/AWSEC2/latest/UserGuide/instance-types.html). You can find all instance types [here](https://aws.amazon.com/de/ec2/instance-types/).<br />\n",
    "We can simply use one of the smallest instance (t2.nano) that costs $0.0058 / hour. [Here](https://aws.amazon.com/ec2/pricing/on-demand/) you can find all prices\n",
    "\n",
    "Please note that some instances might become very expensive, so be very careful on what you select!"
   ]
  },
  {
   "cell_type": "markdown",
   "id": "1be0895e-c72e-4dbc-b1ef-76280c93fcb6",
   "metadata": {},
   "source": [
    "Hint: If you obtain an *UnauthorizedOperation* Error, you might need to update your IAM configuration and add the EC2 Access"
   ]
  },
  {
   "cell_type": "code",
   "execution_count": 6,
   "id": "b309fd8b-e248-4798-9788-75948447d965",
   "metadata": {},
   "outputs": [],
   "source": [
    "import boto3\n",
    "\n",
    "ec2 = boto3.resource(\"ec2\", region_name=\"us-east-1\")\n",
    "instance = ec2.create_instances(\n",
    "    ImageId=\"ami-0a3db6a6bb59b68d3\", # Required\n",
    "    MinCount=1, # Required\n",
    "    MaxCount=1, # Required,\n",
    "    InstanceType=\"t2.nano\"\n",
    ")"
   ]
  },
  {
   "cell_type": "code",
   "execution_count": 7,
   "id": "f5c51b3d-a570-4069-9d21-d1c1fd0eeb34",
   "metadata": {},
   "outputs": [
    {
     "data": {
      "text/plain": [
       "[ec2.Instance(id='i-0461fa9315b2882a9')]"
      ]
     },
     "execution_count": 7,
     "metadata": {},
     "output_type": "execute_result"
    }
   ],
   "source": [
    "instance"
   ]
  },
  {
   "cell_type": "markdown",
   "id": "0546671d-02ff-48b9-b9cf-cce56117dedf",
   "metadata": {},
   "source": [
    "Congratulations! You just spawned an ec2 instance!\n",
    "Feel free to head over to your aws console and navigate to EC2 -> Instances.\n",
    "\n",
    "To inspect the attaced storage, head over to EC2-> Elastic Block Store"
   ]
  },
  {
   "cell_type": "markdown",
   "id": "56fe33ec-34ef-43d9-9c37-40539f6e6ed0",
   "metadata": {},
   "source": [
    "Of course we can also use boto3 to check what instances are running:"
   ]
  },
  {
   "cell_type": "code",
   "execution_count": 9,
   "id": "40caf6e8-ef37-4a60-bf20-34b60090e260",
   "metadata": {},
   "outputs": [
    {
     "data": {
      "text/plain": [
       "[ec2.Instance(id='i-0461fa9315b2882a9')]"
      ]
     },
     "execution_count": 9,
     "metadata": {},
     "output_type": "execute_result"
    }
   ],
   "source": [
    "list(ec2.instances.all())"
   ]
  },
  {
   "cell_type": "code",
   "execution_count": 15,
   "id": "e1cb89c9-3be6-4af4-884a-6e592026b8d8",
   "metadata": {},
   "outputs": [
    {
     "data": {
      "text/plain": [
       "'i-0461fa9315b2882a9'"
      ]
     },
     "execution_count": 15,
     "metadata": {},
     "output_type": "execute_result"
    }
   ],
   "source": [
    "instance[0].id"
   ]
  },
  {
   "cell_type": "markdown",
   "id": "64d3dfdf-190d-464d-aeeb-d813ad56d49a",
   "metadata": {},
   "source": [
    "Using *client.describe_instances(InstanceIds=[string])* you can obtain all information about a particular instance"
   ]
  },
  {
   "cell_type": "code",
   "execution_count": 18,
   "id": "e509fd72-6ee7-4551-b357-51d2b1f2cb33",
   "metadata": {
    "scrolled": true
   },
   "outputs": [],
   "source": [
    "client = boto3.client(\"ec2\", region_name=\"us-east-1\")\n",
    "instance_descr = client.describe_instances(InstanceIds=[instance[0].id])"
   ]
  },
  {
   "cell_type": "code",
   "execution_count": 19,
   "id": "55d3fd8d-8eec-46d3-8d0d-759a3124d89a",
   "metadata": {
    "scrolled": true
   },
   "outputs": [
    {
     "data": {
      "text/plain": [
       "{'Reservations': [{'Groups': [],\n",
       "   'Instances': [{'AmiLaunchIndex': 0,\n",
       "     'ImageId': 'ami-0a3db6a6bb59b68d3',\n",
       "     'InstanceId': 'i-0461fa9315b2882a9',\n",
       "     'InstanceType': 't2.nano',\n",
       "     'LaunchTime': datetime.datetime(2023, 8, 8, 8, 40, 53, tzinfo=tzutc()),\n",
       "     'Monitoring': {'State': 'disabled'},\n",
       "     'Placement': {'AvailabilityZone': 'us-east-1e',\n",
       "      'GroupName': '',\n",
       "      'Tenancy': 'default'},\n",
       "     'PrivateDnsName': 'ip-172-31-52-109.ec2.internal',\n",
       "     'PrivateIpAddress': '172.31.52.109',\n",
       "     'ProductCodes': [],\n",
       "     'PublicDnsName': 'ec2-100-26-222-69.compute-1.amazonaws.com',\n",
       "     'PublicIpAddress': '100.26.222.69',\n",
       "     'State': {'Code': 16, 'Name': 'running'},\n",
       "     'StateTransitionReason': '',\n",
       "     'SubnetId': 'subnet-0e6aa81e2c43e33ad',\n",
       "     'VpcId': 'vpc-0e332aaa00eaf3ed7',\n",
       "     'Architecture': 'x86_64',\n",
       "     'BlockDeviceMappings': [{'DeviceName': '/dev/sda1',\n",
       "       'Ebs': {'AttachTime': datetime.datetime(2023, 8, 8, 8, 40, 54, tzinfo=tzutc()),\n",
       "        'DeleteOnTermination': True,\n",
       "        'Status': 'attached',\n",
       "        'VolumeId': 'vol-0b94dfc568e93ec68'}}],\n",
       "     'ClientToken': '167a865a-bda0-48d3-b82b-478ace98bc81',\n",
       "     'EbsOptimized': False,\n",
       "     'EnaSupport': True,\n",
       "     'Hypervisor': 'xen',\n",
       "     'NetworkInterfaces': [{'Association': {'IpOwnerId': 'amazon',\n",
       "        'PublicDnsName': 'ec2-100-26-222-69.compute-1.amazonaws.com',\n",
       "        'PublicIp': '100.26.222.69'},\n",
       "       'Attachment': {'AttachTime': datetime.datetime(2023, 8, 8, 8, 40, 53, tzinfo=tzutc()),\n",
       "        'AttachmentId': 'eni-attach-0d8132b09713fb7f7',\n",
       "        'DeleteOnTermination': True,\n",
       "        'DeviceIndex': 0,\n",
       "        'Status': 'attached',\n",
       "        'NetworkCardIndex': 0},\n",
       "       'Description': '',\n",
       "       'Groups': [{'GroupName': 'default', 'GroupId': 'sg-0603fe742319bbc53'}],\n",
       "       'Ipv6Addresses': [],\n",
       "       'MacAddress': '06:61:92:15:83:43',\n",
       "       'NetworkInterfaceId': 'eni-022dd5fa09cd4e8b6',\n",
       "       'OwnerId': '472948420345',\n",
       "       'PrivateDnsName': 'ip-172-31-52-109.ec2.internal',\n",
       "       'PrivateIpAddress': '172.31.52.109',\n",
       "       'PrivateIpAddresses': [{'Association': {'IpOwnerId': 'amazon',\n",
       "          'PublicDnsName': 'ec2-100-26-222-69.compute-1.amazonaws.com',\n",
       "          'PublicIp': '100.26.222.69'},\n",
       "         'Primary': True,\n",
       "         'PrivateDnsName': 'ip-172-31-52-109.ec2.internal',\n",
       "         'PrivateIpAddress': '172.31.52.109'}],\n",
       "       'SourceDestCheck': True,\n",
       "       'Status': 'in-use',\n",
       "       'SubnetId': 'subnet-0e6aa81e2c43e33ad',\n",
       "       'VpcId': 'vpc-0e332aaa00eaf3ed7',\n",
       "       'InterfaceType': 'interface'}],\n",
       "     'RootDeviceName': '/dev/sda1',\n",
       "     'RootDeviceType': 'ebs',\n",
       "     'SecurityGroups': [{'GroupName': 'default',\n",
       "       'GroupId': 'sg-0603fe742319bbc53'}],\n",
       "     'SourceDestCheck': True,\n",
       "     'VirtualizationType': 'hvm',\n",
       "     'CpuOptions': {'CoreCount': 1, 'ThreadsPerCore': 1},\n",
       "     'CapacityReservationSpecification': {'CapacityReservationPreference': 'open'},\n",
       "     'HibernationOptions': {'Configured': False},\n",
       "     'MetadataOptions': {'State': 'applied',\n",
       "      'HttpTokens': 'optional',\n",
       "      'HttpPutResponseHopLimit': 1,\n",
       "      'HttpEndpoint': 'enabled',\n",
       "      'HttpProtocolIpv6': 'disabled',\n",
       "      'InstanceMetadataTags': 'disabled'},\n",
       "     'EnclaveOptions': {'Enabled': False},\n",
       "     'PlatformDetails': 'Linux/UNIX',\n",
       "     'UsageOperation': 'RunInstances',\n",
       "     'UsageOperationUpdateTime': datetime.datetime(2023, 8, 8, 8, 40, 53, tzinfo=tzutc()),\n",
       "     'PrivateDnsNameOptions': {'HostnameType': 'ip-name',\n",
       "      'EnableResourceNameDnsARecord': False,\n",
       "      'EnableResourceNameDnsAAAARecord': False},\n",
       "     'MaintenanceOptions': {'AutoRecovery': 'default'},\n",
       "     'CurrentInstanceBootMode': 'legacy-bios'}],\n",
       "   'OwnerId': '472948420345',\n",
       "   'ReservationId': 'r-08c5e7f4dea760fcc'}],\n",
       " 'ResponseMetadata': {'RequestId': '188084d9-50d7-4420-9935-c2db44fb0492',\n",
       "  'HTTPStatusCode': 200,\n",
       "  'HTTPHeaders': {'x-amzn-requestid': '188084d9-50d7-4420-9935-c2db44fb0492',\n",
       "   'cache-control': 'no-cache, no-store',\n",
       "   'strict-transport-security': 'max-age=31536000; includeSubDomains',\n",
       "   'vary': 'accept-encoding',\n",
       "   'content-type': 'text/xml;charset=UTF-8',\n",
       "   'content-length': '8032',\n",
       "   'date': 'Tue, 08 Aug 2023 08:50:46 GMT',\n",
       "   'server': 'AmazonEC2'},\n",
       "  'RetryAttempts': 0}}"
      ]
     },
     "execution_count": 19,
     "metadata": {},
     "output_type": "execute_result"
    }
   ],
   "source": [
    "instance_descr"
   ]
  },
  {
   "cell_type": "markdown",
   "id": "0b6ef8d9-7fe5-4d44-ad31-b69c061e3308",
   "metadata": {},
   "source": [
    "## Starting & Stopping instances\n",
    "You can also use boto3 to start and stop instances.\n",
    "The difference between isntance creation and instance starting is that you still have the attached memory available (and paying for it) and can restart it any time without creating a new isntance\n",
    "Let's stop the above created instance first"
   ]
  },
  {
   "cell_type": "code",
   "execution_count": 33,
   "id": "8f551921-40a4-4931-97d8-e04298d13127",
   "metadata": {},
   "outputs": [
    {
     "data": {
      "text/plain": [
       "{'Code': 16, 'Name': 'running'}"
      ]
     },
     "execution_count": 33,
     "metadata": {},
     "output_type": "execute_result"
    }
   ],
   "source": [
    "instance_descr[\"Reservations\"][0][\"Instances\"][0][\"State\"]"
   ]
  },
  {
   "cell_type": "code",
   "execution_count": 34,
   "id": "4e651ab9-f390-4f19-9f3c-b05fd0d2f12d",
   "metadata": {},
   "outputs": [
    {
     "data": {
      "text/plain": [
       "{'StoppingInstances': [{'CurrentState': {'Code': 64, 'Name': 'stopping'},\n",
       "   'InstanceId': 'i-0461fa9315b2882a9',\n",
       "   'PreviousState': {'Code': 16, 'Name': 'running'}}],\n",
       " 'ResponseMetadata': {'RequestId': '16998c73-ee08-4f12-b6c9-4f80db27a86a',\n",
       "  'HTTPStatusCode': 200,\n",
       "  'HTTPHeaders': {'x-amzn-requestid': '16998c73-ee08-4f12-b6c9-4f80db27a86a',\n",
       "   'cache-control': 'no-cache, no-store',\n",
       "   'strict-transport-security': 'max-age=31536000; includeSubDomains',\n",
       "   'content-type': 'text/xml;charset=UTF-8',\n",
       "   'content-length': '579',\n",
       "   'date': 'Tue, 08 Aug 2023 08:52:50 GMT',\n",
       "   'server': 'AmazonEC2'},\n",
       "  'RetryAttempts': 0}}"
      ]
     },
     "execution_count": 34,
     "metadata": {},
     "output_type": "execute_result"
    }
   ],
   "source": [
    "client.stop_instances(InstanceIds=[instance[0].id])"
   ]
  },
  {
   "cell_type": "code",
   "execution_count": 43,
   "id": "7e4a1964-2506-4bf8-a4bc-ebb9c51cbf3b",
   "metadata": {},
   "outputs": [
    {
     "data": {
      "text/plain": [
       "{'Code': 80, 'Name': 'stopped'}"
      ]
     },
     "execution_count": 43,
     "metadata": {},
     "output_type": "execute_result"
    }
   ],
   "source": [
    "client.describe_instances(InstanceIds=[instance[0].id])[\"Reservations\"][0][\"Instances\"][0][\"State\"]"
   ]
  },
  {
   "cell_type": "markdown",
   "id": "858705c9-beaa-42ad-8c3a-eb842d4674ef",
   "metadata": {},
   "source": [
    "Now let us restart it:"
   ]
  },
  {
   "cell_type": "code",
   "execution_count": 44,
   "id": "fc6a896c-6d21-4f62-93fc-561ef9b661b3",
   "metadata": {},
   "outputs": [
    {
     "data": {
      "text/plain": [
       "{'StartingInstances': [{'CurrentState': {'Code': 0, 'Name': 'pending'},\n",
       "   'InstanceId': 'i-0461fa9315b2882a9',\n",
       "   'PreviousState': {'Code': 80, 'Name': 'stopped'}}],\n",
       " 'ResponseMetadata': {'RequestId': '5c57beab-9f30-4170-801d-e67cfae544aa',\n",
       "  'HTTPStatusCode': 200,\n",
       "  'HTTPHeaders': {'x-amzn-requestid': '5c57beab-9f30-4170-801d-e67cfae544aa',\n",
       "   'cache-control': 'no-cache, no-store',\n",
       "   'strict-transport-security': 'max-age=31536000; includeSubDomains',\n",
       "   'content-type': 'text/xml;charset=UTF-8',\n",
       "   'content-length': '579',\n",
       "   'date': 'Tue, 08 Aug 2023 08:55:24 GMT',\n",
       "   'server': 'AmazonEC2'},\n",
       "  'RetryAttempts': 0}}"
      ]
     },
     "execution_count": 44,
     "metadata": {},
     "output_type": "execute_result"
    }
   ],
   "source": [
    "client.start_instances(InstanceIds=[instance[0].id])"
   ]
  },
  {
   "cell_type": "code",
   "execution_count": 46,
   "id": "9167a5b3-8e60-4578-b51a-2a2ce7fa3ee4",
   "metadata": {},
   "outputs": [
    {
     "data": {
      "text/plain": [
       "{'Code': 16, 'Name': 'running'}"
      ]
     },
     "execution_count": 46,
     "metadata": {},
     "output_type": "execute_result"
    }
   ],
   "source": [
    "client.describe_instances(InstanceIds=[instance[0].id])[\"Reservations\"][0][\"Instances\"][0][\"State\"]"
   ]
  },
  {
   "cell_type": "markdown",
   "id": "3be77647-70a6-4641-8656-d0b4b44561f5",
   "metadata": {},
   "source": [
    "## Terminating an instance\n",
    "To remove your instance, you can use *client.terminate_instances(InstanceIds=[string])*"
   ]
  },
  {
   "cell_type": "code",
   "execution_count": 69,
   "id": "3d5d7265-8130-4f18-ac04-10854f38bc7b",
   "metadata": {},
   "outputs": [
    {
     "data": {
      "text/plain": [
       "{'TerminatingInstances': [{'CurrentState': {'Code': 32,\n",
       "    'Name': 'shutting-down'},\n",
       "   'InstanceId': 'i-0461fa9315b2882a9',\n",
       "   'PreviousState': {'Code': 16, 'Name': 'running'}}],\n",
       " 'ResponseMetadata': {'RequestId': '068bcaa8-2a17-4c82-93cf-31070738941b',\n",
       "  'HTTPStatusCode': 200,\n",
       "  'HTTPHeaders': {'x-amzn-requestid': '068bcaa8-2a17-4c82-93cf-31070738941b',\n",
       "   'cache-control': 'no-cache, no-store',\n",
       "   'strict-transport-security': 'max-age=31536000; includeSubDomains',\n",
       "   'vary': 'accept-encoding',\n",
       "   'content-type': 'text/xml;charset=UTF-8',\n",
       "   'transfer-encoding': 'chunked',\n",
       "   'date': 'Tue, 08 Aug 2023 09:13:22 GMT',\n",
       "   'server': 'AmazonEC2'},\n",
       "  'RetryAttempts': 0}}"
      ]
     },
     "execution_count": 69,
     "metadata": {},
     "output_type": "execute_result"
    }
   ],
   "source": [
    "client.terminate_instances(InstanceIds=[instance[0].id])"
   ]
  },
  {
   "cell_type": "markdown",
   "id": "b41f5223-51f4-42a2-8c28-5975a5c09330",
   "metadata": {},
   "source": [
    "Head over to aws and verify that your instace state is **terminated**.<br />\n",
    "Also verify, that no volumes are shown in Elastic Block Store"
   ]
  },
  {
   "cell_type": "markdown",
   "id": "2ccc2b09-7a12-4e37-8a01-0cb0b30918cf",
   "metadata": {},
   "source": [
    "## Access your instance via ssh using paramiko"
   ]
  },
  {
   "cell_type": "markdown",
   "id": "8c5a97db-42cf-4f5a-8d2c-d6c3f16529d9",
   "metadata": {},
   "source": [
    "Now that we know how to create an instance, we want to be able to access it via ssh. To do so we can use a python package called paramiko.\n",
    "Before inspecting paramiko, let's create a new instance.\n",
    "Before doing so, we should create an ssh key-pair which we assing to this newly created instance.\n",
    "The public key is stored within AWS, and the private key is retured to us so we can use it. "
   ]
  },
  {
   "cell_type": "code",
   "execution_count": 131,
   "id": "2075012d-eac5-483a-9599-de459565b36a",
   "metadata": {},
   "outputs": [
    {
     "ename": "ClientError",
     "evalue": "An error occurred (InvalidKeyPair.Duplicate) when calling the CreateKeyPair operation: The keypair already exists",
     "output_type": "error",
     "traceback": [
      "\u001b[0;31m---------------------------------------------------------------------------\u001b[0m",
      "\u001b[0;31mClientError\u001b[0m                               Traceback (most recent call last)",
      "Cell \u001b[0;32mIn[131], line 1\u001b[0m\n\u001b[0;32m----> 1\u001b[0m key_pair \u001b[38;5;241m=\u001b[39m \u001b[43mclient\u001b[49m\u001b[38;5;241;43m.\u001b[39;49m\u001b[43mcreate_key_pair\u001b[49m\u001b[43m(\u001b[49m\u001b[43mKeyName\u001b[49m\u001b[38;5;241;43m=\u001b[39;49m\u001b[38;5;124;43m'\u001b[39;49m\u001b[38;5;124;43mfirst_aws_key_pair\u001b[39;49m\u001b[38;5;124;43m'\u001b[39;49m\u001b[43m)\u001b[49m\n\u001b[1;32m      2\u001b[0m \u001b[38;5;28mprint\u001b[39m(key_pair)\n",
      "File \u001b[0;32m~/opt/miniconda3/envs/boto/lib/python3.10/site-packages/botocore/client.py:535\u001b[0m, in \u001b[0;36mClientCreator._create_api_method.<locals>._api_call\u001b[0;34m(self, *args, **kwargs)\u001b[0m\n\u001b[1;32m    531\u001b[0m     \u001b[38;5;28;01mraise\u001b[39;00m \u001b[38;5;167;01mTypeError\u001b[39;00m(\n\u001b[1;32m    532\u001b[0m         \u001b[38;5;124mf\u001b[39m\u001b[38;5;124m\"\u001b[39m\u001b[38;5;132;01m{\u001b[39;00mpy_operation_name\u001b[38;5;132;01m}\u001b[39;00m\u001b[38;5;124m() only accepts keyword arguments.\u001b[39m\u001b[38;5;124m\"\u001b[39m\n\u001b[1;32m    533\u001b[0m     )\n\u001b[1;32m    534\u001b[0m \u001b[38;5;66;03m# The \"self\" in this scope is referring to the BaseClient.\u001b[39;00m\n\u001b[0;32m--> 535\u001b[0m \u001b[38;5;28;01mreturn\u001b[39;00m \u001b[38;5;28;43mself\u001b[39;49m\u001b[38;5;241;43m.\u001b[39;49m\u001b[43m_make_api_call\u001b[49m\u001b[43m(\u001b[49m\u001b[43moperation_name\u001b[49m\u001b[43m,\u001b[49m\u001b[43m \u001b[49m\u001b[43mkwargs\u001b[49m\u001b[43m)\u001b[49m\n",
      "File \u001b[0;32m~/opt/miniconda3/envs/boto/lib/python3.10/site-packages/botocore/client.py:980\u001b[0m, in \u001b[0;36mBaseClient._make_api_call\u001b[0;34m(self, operation_name, api_params)\u001b[0m\n\u001b[1;32m    978\u001b[0m     error_code \u001b[38;5;241m=\u001b[39m parsed_response\u001b[38;5;241m.\u001b[39mget(\u001b[38;5;124m\"\u001b[39m\u001b[38;5;124mError\u001b[39m\u001b[38;5;124m\"\u001b[39m, {})\u001b[38;5;241m.\u001b[39mget(\u001b[38;5;124m\"\u001b[39m\u001b[38;5;124mCode\u001b[39m\u001b[38;5;124m\"\u001b[39m)\n\u001b[1;32m    979\u001b[0m     error_class \u001b[38;5;241m=\u001b[39m \u001b[38;5;28mself\u001b[39m\u001b[38;5;241m.\u001b[39mexceptions\u001b[38;5;241m.\u001b[39mfrom_code(error_code)\n\u001b[0;32m--> 980\u001b[0m     \u001b[38;5;28;01mraise\u001b[39;00m error_class(parsed_response, operation_name)\n\u001b[1;32m    981\u001b[0m \u001b[38;5;28;01melse\u001b[39;00m:\n\u001b[1;32m    982\u001b[0m     \u001b[38;5;28;01mreturn\u001b[39;00m parsed_response\n",
      "\u001b[0;31mClientError\u001b[0m: An error occurred (InvalidKeyPair.Duplicate) when calling the CreateKeyPair operation: The keypair already exists"
     ]
    }
   ],
   "source": [
    "key_pair = client.create_key_pair(KeyName='first_aws_key_pair')\n",
    "print(key_pair)\n"
   ]
  },
  {
   "cell_type": "code",
   "execution_count": 105,
   "id": "c979d221-2ec7-47b7-8c26-c5ef274956c3",
   "metadata": {},
   "outputs": [],
   "source": [
    "private_key = key_pair[\"KeyMaterial\"]"
   ]
  },
  {
   "cell_type": "code",
   "execution_count": 106,
   "id": "59570b3b-e01b-4634-a53d-bd0c88e2256b",
   "metadata": {},
   "outputs": [],
   "source": [
    "with open('my-key-pair.pem', 'w') as f:\n",
    "    f.write(private_key)\n"
   ]
  },
  {
   "cell_type": "markdown",
   "id": "41e9a0ac-3000-4a87-8b2c-0c471a58d57f",
   "metadata": {},
   "source": [
    "We now pass the KeyName to *create_instances*. <br >\n",
    "In order to be able to access this instance, we need to attach a security group to it (otherwise all ports are blocked)"
   ]
  },
  {
   "cell_type": "markdown",
   "id": "a558849f-c769-4f44-a39e-e7320fb6ac28",
   "metadata": {},
   "source": [
    "We can list all security groups using **describe_security_groups()**"
   ]
  },
  {
   "cell_type": "code",
   "execution_count": 116,
   "id": "386dfcfc-495c-4cf0-81a3-f3254e03da52",
   "metadata": {},
   "outputs": [],
   "source": [
    "security_groups = client.describe_security_groups()"
   ]
  },
  {
   "cell_type": "markdown",
   "id": "22afe959-0300-4249-a7ed-e39b69684980",
   "metadata": {},
   "source": [
    "You can see, that there is a group called launch-wizard-1, which contains the necessary permissions for ssh\n",
    "Pass the GroupId of this group to **create_instance**()"
   ]
  },
  {
   "cell_type": "code",
   "execution_count": 119,
   "id": "e13f6049-7281-42e9-bba3-7b6637ab30e8",
   "metadata": {
    "scrolled": true
   },
   "outputs": [
    {
     "data": {
      "text/plain": [
       "[{'Description': 'default VPC security group',\n",
       "  'GroupName': 'default',\n",
       "  'IpPermissions': [{'IpProtocol': '-1',\n",
       "    'IpRanges': [],\n",
       "    'Ipv6Ranges': [],\n",
       "    'PrefixListIds': [],\n",
       "    'UserIdGroupPairs': [{'GroupId': 'sg-0603fe742319bbc53',\n",
       "      'UserId': '472948420345'}]}],\n",
       "  'OwnerId': '472948420345',\n",
       "  'GroupId': 'sg-0603fe742319bbc53',\n",
       "  'IpPermissionsEgress': [{'IpProtocol': '-1',\n",
       "    'IpRanges': [{'CidrIp': '0.0.0.0/0'}],\n",
       "    'Ipv6Ranges': [],\n",
       "    'PrefixListIds': [],\n",
       "    'UserIdGroupPairs': []}],\n",
       "  'VpcId': 'vpc-0e332aaa00eaf3ed7'},\n",
       " {'Description': 'launch-wizard-1 created 2022-07-22T20:10:04.156Z',\n",
       "  'GroupName': 'launch-wizard-1',\n",
       "  'IpPermissions': [{'FromPort': 80,\n",
       "    'IpProtocol': 'tcp',\n",
       "    'IpRanges': [{'CidrIp': '0.0.0.0/0'}],\n",
       "    'Ipv6Ranges': [{'CidrIpv6': '::/0'}],\n",
       "    'PrefixListIds': [],\n",
       "    'ToPort': 80,\n",
       "    'UserIdGroupPairs': []},\n",
       "   {'FromPort': 8080,\n",
       "    'IpProtocol': 'tcp',\n",
       "    'IpRanges': [{'CidrIp': '0.0.0.0/0'}],\n",
       "    'Ipv6Ranges': [],\n",
       "    'PrefixListIds': [],\n",
       "    'ToPort': 8080,\n",
       "    'UserIdGroupPairs': []},\n",
       "   {'FromPort': 22,\n",
       "    'IpProtocol': 'tcp',\n",
       "    'IpRanges': [{'CidrIp': '0.0.0.0/0'}],\n",
       "    'Ipv6Ranges': [],\n",
       "    'PrefixListIds': [],\n",
       "    'ToPort': 22,\n",
       "    'UserIdGroupPairs': []},\n",
       "   {'FromPort': 443,\n",
       "    'IpProtocol': 'tcp',\n",
       "    'IpRanges': [{'CidrIp': '0.0.0.0/0'}],\n",
       "    'Ipv6Ranges': [],\n",
       "    'PrefixListIds': [],\n",
       "    'ToPort': 443,\n",
       "    'UserIdGroupPairs': []}],\n",
       "  'OwnerId': '472948420345',\n",
       "  'GroupId': 'sg-0f32733d785714b4f',\n",
       "  'IpPermissionsEgress': [{'IpProtocol': '-1',\n",
       "    'IpRanges': [{'CidrIp': '0.0.0.0/0'}],\n",
       "    'Ipv6Ranges': [],\n",
       "    'PrefixListIds': [],\n",
       "    'UserIdGroupPairs': []}],\n",
       "  'VpcId': 'vpc-0e332aaa00eaf3ed7'}]"
      ]
     },
     "execution_count": 119,
     "metadata": {},
     "output_type": "execute_result"
    }
   ],
   "source": [
    "security_groups[\"SecurityGroups\"]"
   ]
  },
  {
   "cell_type": "code",
   "execution_count": 121,
   "id": "a5f981ea-223d-41f2-aa7e-bc59b27c66ab",
   "metadata": {},
   "outputs": [],
   "source": [
    "ec2 = boto3.resource(\"ec2\", region_name=\"us-east-1\")\n",
    "instance = ec2.create_instances(\n",
    "    ImageId=\"ami-0a3db6a6bb59b68d3\", # Required\n",
    "    MinCount=1, # Required\n",
    "    MaxCount=1, # Required,\n",
    "    InstanceType=\"t2.nano\",\n",
    "    KeyName=\"first_aws_key_pair\",\n",
    "    SecurityGroupIds=[\"sg-0f32733d785714b4f\"]  # Adjust that to your Group ID!\n",
    "    \n",
    ")"
   ]
  },
  {
   "cell_type": "markdown",
   "id": "53d6c96a-796c-4645-8ecc-7f7b7c89beb9",
   "metadata": {},
   "source": [
    "Now we are ready to tacke the ssh connection"
   ]
  },
  {
   "cell_type": "code",
   "execution_count": 47,
   "id": "7cad83b3-520d-4f7d-b5af-3376b7131baf",
   "metadata": {},
   "outputs": [],
   "source": [
    "import paramiko"
   ]
  },
  {
   "cell_type": "markdown",
   "id": "2ee60fa7-d049-43d0-91ba-335dd4921cd5",
   "metadata": {},
   "source": [
    "1) Create paramiko ssh client\n",
    "2) Use the **AutoAddPolicy** when the host key is missing (what it is in our case)\n",
    "3) Pass the private key to paramiko\n",
    "4) Grab the IP address of our instance"
   ]
  },
  {
   "cell_type": "code",
   "execution_count": 122,
   "id": "6ac3f481-3356-443b-ae3b-56bbe64e354f",
   "metadata": {},
   "outputs": [],
   "source": [
    "ssh = paramiko.SSHClient()\n",
    "ssh.set_missing_host_key_policy(paramiko.AutoAddPolicy())\n",
    "private_key = paramiko.RSAKey(filename=\"my-key-pair.pem\")\n"
   ]
  },
  {
   "cell_type": "code",
   "execution_count": 123,
   "id": "132733bc-313c-41ac-af7a-44daaba923fd",
   "metadata": {},
   "outputs": [],
   "source": [
    "ip = client.describe_instances(InstanceIds=[instance[0].id])[\"Reservations\"][0][\"Instances\"][0][\"PublicIpAddress\"]"
   ]
  },
  {
   "cell_type": "code",
   "execution_count": 124,
   "id": "599badaf-3cf2-4083-9152-1dc69d677c78",
   "metadata": {},
   "outputs": [
    {
     "data": {
      "text/plain": [
       "'54.160.81.220'"
      ]
     },
     "execution_count": 124,
     "metadata": {},
     "output_type": "execute_result"
    }
   ],
   "source": [
    "ip"
   ]
  },
  {
   "cell_type": "code",
   "execution_count": 129,
   "id": "02e2c148-bc21-4ffc-a7e1-b482d139533a",
   "metadata": {},
   "outputs": [
    {
     "name": "stdout",
     "output_type": "stream",
     "text": [
      "b''\n",
      "b''\n",
      "b'TestDir\\n'\n"
     ]
    }
   ],
   "source": [
    "ssh.connect(hostname=ip, username=\"ubuntu\", pkey=private_key)\n",
    "\n",
    "stdin , stdout, stderr = ssh.exec_command(\"ls\")\n",
    "print(stdout.read())\n",
    "\n",
    "stdin , stdout, stderr = ssh.exec_command(\"mkdir TestDir\")\n",
    "print(stdout.read())\n",
    "\n",
    "stdin , stdout, stderr = ssh.exec_command(\"ls\")\n",
    "print(stdout.read())\n",
    "\n",
    "ssh.close()\n"
   ]
  },
  {
   "cell_type": "markdown",
   "id": "0adbaccb-ba91-4f55-9f4f-f982c55c4de1",
   "metadata": {},
   "source": [
    "**Don't forget to terminate your instance!!**"
   ]
  },
  {
   "cell_type": "code",
   "execution_count": 130,
   "id": "04f4a5fd-dec5-4069-a45b-b6cfd4cac129",
   "metadata": {},
   "outputs": [
    {
     "data": {
      "text/plain": [
       "{'TerminatingInstances': [{'CurrentState': {'Code': 32,\n",
       "    'Name': 'shutting-down'},\n",
       "   'InstanceId': 'i-0b9f120993b01c975',\n",
       "   'PreviousState': {'Code': 16, 'Name': 'running'}}],\n",
       " 'ResponseMetadata': {'RequestId': '7e42dbf9-c7b9-4912-b286-44831dd745a6',\n",
       "  'HTTPStatusCode': 200,\n",
       "  'HTTPHeaders': {'x-amzn-requestid': '7e42dbf9-c7b9-4912-b286-44831dd745a6',\n",
       "   'cache-control': 'no-cache, no-store',\n",
       "   'strict-transport-security': 'max-age=31536000; includeSubDomains',\n",
       "   'vary': 'accept-encoding',\n",
       "   'content-type': 'text/xml;charset=UTF-8',\n",
       "   'transfer-encoding': 'chunked',\n",
       "   'date': 'Tue, 08 Aug 2023 09:59:06 GMT',\n",
       "   'server': 'AmazonEC2'},\n",
       "  'RetryAttempts': 0}}"
      ]
     },
     "execution_count": 130,
     "metadata": {},
     "output_type": "execute_result"
    }
   ],
   "source": [
    "client.terminate_instances(InstanceIds=[instance[0].id])"
   ]
  }
 ],
 "metadata": {
  "kernelspec": {
   "display_name": "Python 3 (ipykernel)",
   "language": "python",
   "name": "python3"
  },
  "language_info": {
   "codemirror_mode": {
    "name": "ipython",
    "version": 3
   },
   "file_extension": ".py",
   "mimetype": "text/x-python",
   "name": "python",
   "nbconvert_exporter": "python",
   "pygments_lexer": "ipython3",
   "version": "3.10.0"
  }
 },
 "nbformat": 4,
 "nbformat_minor": 5
}

{
 "cells": [
  {
   "cell_type": "markdown",
   "id": "3f3d8290-6d6b-4141-b8d5-b38fdd46ebae",
   "metadata": {},
   "source": [
    "![https://pieriantraining.com/](../PTCenteredPurple.png)"
   ]
  },
  {
   "cell_type": "markdown",
   "id": "eadd2aed-daa0-4736-a599-6ad192725746",
   "metadata": {},
   "source": [
    "In this lecture we will use [boto3](https://boto3.amazonaws.com/v1/documentation/api/latest/reference/services/lambda.html) to use the serverless computing service, [AWS Lambda](https://aws.amazon.com/lambda/)"
   ]
  },
  {
   "cell_type": "markdown",
   "id": "8893fa7a-61b3-4717-be3d-4c528d349456",
   "metadata": {},
   "source": [
    "## Hello World\n",
    "\n",
    "Let's learn about aws lambda by creating a first *Hello World* application."
   ]
  },
  {
   "cell_type": "code",
   "execution_count": 9,
   "id": "530d36ac-ecc6-4366-a04e-32681d859d7d",
   "metadata": {},
   "outputs": [],
   "source": [
    "import boto3"
   ]
  },
  {
   "cell_type": "markdown",
   "id": "c385f746-c70a-4a40-b64e-005b7451d428",
   "metadata": {},
   "source": [
    "### Create the Lambda function\n",
    "It should simply return \"Hello World\" when invoked.\n",
    "You have two possibilities to create the function:\n",
    "1) Directly as a string here\n",
    "2) Within a separate file that you load\n",
    "\n",
    "99% of the time, you will have a separate python file that you load, so let's do this!"
   ]
  },
  {
   "cell_type": "markdown",
   "id": "0882740e-5d95-4a1a-9f86-7fe5fadfc45d",
   "metadata": {},
   "source": [
    "The main function is called *lambda_handler* and always accepts an **event** and **context**.<br />\n",
    "Note that you can assign another name to this function as you pass it to the handler later"
   ]
  },
  {
   "cell_type": "code",
   "execution_count": 21,
   "id": "5584678d-dc86-4038-9551-c760270f2ac7",
   "metadata": {},
   "outputs": [],
   "source": [
    "with open(\"hello.py\", \"r\") as f:\n",
    "    function_code = f.read()"
   ]
  },
  {
   "cell_type": "code",
   "execution_count": 22,
   "id": "8f33c652-4b4c-4f5b-a96e-ec37bf7ce8c2",
   "metadata": {},
   "outputs": [
    {
     "name": "stdout",
     "output_type": "stream",
     "text": [
      "def lambda_handler(event, context):\n",
      "    return \"Hello World\"\n"
     ]
    }
   ],
   "source": [
    "print(function_code)"
   ]
  },
  {
   "cell_type": "markdown",
   "id": "fe789aca-efc0-4d6d-963b-5730d49d3400",
   "metadata": {},
   "source": [
    "To create the lambda package you need to define:\n",
    "1) The lambda function name\n",
    "2) The runtime identifier (e.g python3.8) [List](https://docs.aws.amazon.com/lambda/latest/dg/lambda-runtimes.html)\n",
    "3) The handler (name of your python function)\n",
    "4) The IAM role"
   ]
  },
  {
   "cell_type": "code",
   "execution_count": 7,
   "id": "ae627e30-3b0a-472b-9d26-0f6020438b59",
   "metadata": {},
   "outputs": [],
   "source": [
    "function_name = \"HelloWorld1\"\n",
    "runtime = \"python3.8\"\n",
    "handler = \"lambda_function.lambda_handler\"  # The first part is fixed, the second part is the name of your main python function"
   ]
  },
  {
   "cell_type": "markdown",
   "id": "0a16602e-5eca-4299-8727-54fed395728c",
   "metadata": {},
   "source": [
    "Regarding the IAM role, we can use the IAM client to create the corresponding role for this function"
   ]
  },
  {
   "cell_type": "code",
   "execution_count": 11,
   "id": "e669e10f-e65e-4de5-bfe6-a62ccdbe92e2",
   "metadata": {},
   "outputs": [],
   "source": [
    "import json\n",
    "# Create an IAM role for Lambda\n",
    "iam_client = boto3.client('iam', region_name=\"us-east-1\")\n",
    "\n",
    "# Define the Lambda execution role policy\n",
    "lambda_execution_policy = {\n",
    "    \"Version\": \"2012-10-17\",\n",
    "    \"Statement\": [\n",
    "        {\n",
    "            \"Effect\": \"Allow\",\n",
    "            \"Action\": [  # Necessary for execution\n",
    "                \"logs:CreateLogGroup\",  \n",
    "                \"logs:CreateLogStream\",\n",
    "                \"logs:PutLogEvents\"\n",
    "            ],\n",
    "            \"Resource\": \"arn:aws:logs:*:*:*\"\n",
    "        }\n",
    "    ]\n",
    "}\n",
    "\n",
    "\n",
    "role_name = 'LambdaExecutionRole'\n",
    "role_response = iam_client.create_role(\n",
    "    RoleName=role_name,\n",
    "    AssumeRolePolicyDocument=json.dumps({\n",
    "        \"Version\": \"2012-10-17\",\n",
    "        \"Statement\": [\n",
    "            {\n",
    "                \"Effect\": \"Allow\",\n",
    "                \"Principal\": {\n",
    "                    \"Service\": \"lambda.amazonaws.com\"\n",
    "                },\n",
    "                \"Action\": \"sts:AssumeRole\"\n",
    "            }\n",
    "        ]\n",
    "    })\n",
    ")\n",
    "\n",
    "policy_name = 'LambdaExecutionPolicy'\n",
    "iam_client.put_role_policy(\n",
    "    RoleName=role_name,\n",
    "    PolicyName=policy_name,\n",
    "    PolicyDocument=json.dumps(lambda_execution_policy)\n",
    ")\n",
    "\n",
    "# Get the ARN of the created role\n",
    "role_arn = role_response['Role']['Arn']\n"
   ]
  },
  {
   "cell_type": "code",
   "execution_count": 12,
   "id": "92346c34-80ca-4011-86d7-210673aadd66",
   "metadata": {},
   "outputs": [
    {
     "data": {
      "text/plain": [
       "'arn:aws:iam::472948420345:role/LambdaExecutionRole'"
      ]
     },
     "execution_count": 12,
     "metadata": {},
     "output_type": "execute_result"
    }
   ],
   "source": [
    "role_arn"
   ]
  },
  {
   "cell_type": "markdown",
   "id": "2a0c22aa-6760-4675-ace1-9ba4503dc18f",
   "metadata": {},
   "source": [
    "Let's create the lambda function using client.create_function(*FunctionName*,*Runtime*,*Role*,*Handler*,*Code*) ([Doc](https://boto3.amazonaws.com/v1/documentation/api/latest/reference/services/lambda/client/create_function.html))\n",
    "\n",
    "You can upload the code via:\n",
    "- 'ZipFile': b'bytes',\n",
    "- 'S3Bucket': 'string',\n",
    "- 'S3Key': 'string',\n",
    "- 'S3ObjectVersion': 'string',\n",
    "- 'ImageUri': 'string'"
   ]
  },
  {
   "cell_type": "markdown",
   "id": "83ee1599-ef3a-447b-8fba-50763dbe8666",
   "metadata": {},
   "source": [
    "We can convert it to a zip file and use the file context to create the ZipFile"
   ]
  },
  {
   "cell_type": "code",
   "execution_count": 13,
   "id": "f890fe96-00bd-46a0-8ba3-41b19d243b45",
   "metadata": {},
   "outputs": [],
   "source": [
    "import zipfile\n",
    "import io\n",
    "\n"
   ]
  },
  {
   "cell_type": "code",
   "execution_count": 14,
   "id": "c0684164-14e3-4361-b6ce-2e74ed98ad58",
   "metadata": {},
   "outputs": [],
   "source": [
    "lambda_client = boto3.client('lambda', region_name='us-east-1')\n",
    "\n",
    "with io.BytesIO() as deployment_package:\n",
    "    with zipfile.ZipFile(deployment_package, 'w') as zipf:\n",
    "        zipf.writestr('lambda_function.py', function_code)\n",
    "\n",
    "    create_function_response = lambda_client.create_function(\n",
    "       FunctionName=function_name,\n",
    "       Runtime=runtime,\n",
    "       Role=role_arn,\n",
    "       Handler=handler,\n",
    "       Code={\n",
    "           'ZipFile': deployment_package.getvalue()\n",
    "       }\n",
    "    )\n"
   ]
  },
  {
   "cell_type": "markdown",
   "id": "dfa44c64-5b11-4339-9ba3-2c6bf13dcb86",
   "metadata": {},
   "source": [
    "Head over to lambda to check out your new function"
   ]
  },
  {
   "cell_type": "markdown",
   "id": "9605919b-e11a-4b98-84d5-52c78b659867",
   "metadata": {},
   "source": [
    "## Invoke your function\n",
    "To run your new lambda function, use client.invoke(*FunctionName*) [Doc](https://boto3.amazonaws.com/v1/documentation/api/latest/reference/services/lambda/client/invoke.html)"
   ]
  },
  {
   "cell_type": "code",
   "execution_count": 15,
   "id": "eace4b90-4f9d-4d38-a4a3-2c7a70956008",
   "metadata": {},
   "outputs": [],
   "source": [
    "invoke_response = lambda_client.invoke(FunctionName=function_name)"
   ]
  },
  {
   "cell_type": "markdown",
   "id": "fc9d09dc-5e9e-43c7-803e-bf8654bc2398",
   "metadata": {},
   "source": [
    "The result is stored in the *Payload* botocore and can be accessed using the read() method "
   ]
  },
  {
   "cell_type": "code",
   "execution_count": 16,
   "id": "b115f19d-05bb-4919-8605-13d473da1369",
   "metadata": {},
   "outputs": [],
   "source": [
    "payload = invoke_response[\"Payload\"].read()"
   ]
  },
  {
   "cell_type": "code",
   "execution_count": 17,
   "id": "0ed09093-cf0f-408c-8deb-8ee619490748",
   "metadata": {},
   "outputs": [
    {
     "data": {
      "text/plain": [
       "'\"Hello World\"'"
      ]
     },
     "execution_count": 17,
     "metadata": {},
     "output_type": "execute_result"
    }
   ],
   "source": [
    "payload.decode(\"utf-8\")"
   ]
  },
  {
   "cell_type": "markdown",
   "id": "d9594446-5644-4e47-a6a1-9c004c9ac564",
   "metadata": {},
   "source": [
    "Congrats! You just created and ran your first aws lambda serverless function"
   ]
  },
  {
   "cell_type": "markdown",
   "id": "cbdede2f-5898-4d72-84e8-90a12f087495",
   "metadata": {},
   "source": [
    "## Delete Function\n",
    "To delete your function, use client.delete_function(*FunctionName*)"
   ]
  },
  {
   "cell_type": "code",
   "execution_count": 18,
   "id": "9ab2bfc1-57eb-4a05-9743-a8b4956b9e4d",
   "metadata": {},
   "outputs": [
    {
     "data": {
      "text/plain": [
       "{'ResponseMetadata': {'RequestId': '73a199d6-e843-4f2d-a332-dd56d76e29be',\n",
       "  'HTTPStatusCode': 204,\n",
       "  'HTTPHeaders': {'date': 'Mon, 11 Sep 2023 04:35:03 GMT',\n",
       "   'content-type': 'application/json',\n",
       "   'connection': 'keep-alive',\n",
       "   'x-amzn-requestid': '73a199d6-e843-4f2d-a332-dd56d76e29be'},\n",
       "  'RetryAttempts': 0}}"
      ]
     },
     "execution_count": 18,
     "metadata": {},
     "output_type": "execute_result"
    }
   ],
   "source": [
    "lambda_client.delete_function(FunctionName=function_name)"
   ]
  },
  {
   "cell_type": "markdown",
   "id": "70acb68c-f1ee-424c-a997-adf3dc0b2ead",
   "metadata": {},
   "source": [
    "## Triggers"
   ]
  },
  {
   "cell_type": "markdown",
   "id": "a9149c94-6036-48a3-a6dc-490d16cd0f9e",
   "metadata": {},
   "source": [
    "The power of aws lambda functions lies within its triggers.\n",
    "Triggers allow us to invoke a lambda when a specific event occurs.\n",
    "\n",
    "Let's create a new lambda function that prints the file name of a file uploaded to a specific s3 bucket"
   ]
  },
  {
   "cell_type": "code",
   "execution_count": 19,
   "id": "dc594f95-513b-4e8d-9337-a1af684a4f49",
   "metadata": {},
   "outputs": [],
   "source": [
    "function_name = 'LambdaTrigger'\n",
    "runtime = 'python3.8'\n",
    "handler = 'lambda_function.lambda_trigger'  # Replace with your handler function\n"
   ]
  },
  {
   "cell_type": "code",
   "execution_count": 20,
   "id": "8fa669ca-2e59-4ede-8533-fc336bd861d3",
   "metadata": {},
   "outputs": [],
   "source": [
    "# Create an IAM role for Lambda trigger. Note that it needs to have s3 Read access\n",
    "iam_client = boto3.client('iam', region_name=\"us-east-1\")\n",
    "\n",
    "# Define the Lambda execution role policy\n",
    "lambda_execution_policy = {\n",
    "    \"Version\": \"2012-10-17\",\n",
    "    \"Statement\": [\n",
    "        {\n",
    "            \"Effect\": \"Allow\",\n",
    "            \"Action\": [\n",
    "                \"logs:CreateLogGroup\",\n",
    "                \"logs:CreateLogStream\",\n",
    "                \"logs:PutLogEvents\"\n",
    "            ],\n",
    "            \"Resource\": \"arn:aws:logs:*:*:*\"\n",
    "        },\n",
    "        {\n",
    "            \"Effect\": \"Allow\",\n",
    "            \"Action\": [  # Necessary to interact with s3 objects\n",
    "                \"s3:GetObject\"\n",
    "            ],\n",
    "            \"Resource\": \"arn:aws:s3:::*/*\"\n",
    "        }\n",
    "    ]\n",
    "}\n",
    "\n",
    "\n",
    "role_name = 'LambdaExecutionRoleTrigger'\n",
    "role_description = 'Role for Trigger Lambda'\n",
    "role_response = iam_client.create_role(\n",
    "    RoleName=role_name,\n",
    "    Description=role_description,\n",
    "    AssumeRolePolicyDocument=json.dumps({\n",
    "        \"Version\": \"2012-10-17\",\n",
    "        \"Statement\": [\n",
    "            {\n",
    "                \"Effect\": \"Allow\",\n",
    "                \"Principal\": {\n",
    "                    \"Service\": \"lambda.amazonaws.com\"\n",
    "                },\n",
    "                \"Action\": \"sts:AssumeRole\"\n",
    "            }\n",
    "        ]\n",
    "    })\n",
    ")\n",
    "\n",
    "policy_name = 'LambdaTriggerPolicy'\n",
    "iam_client.put_role_policy(\n",
    "    RoleName=role_name,\n",
    "    PolicyName=policy_name,\n",
    "    PolicyDocument=json.dumps(lambda_execution_policy)\n",
    ")\n",
    "\n",
    "# Get the ARN of the created role\n",
    "role_arn = role_response['Role']['Arn']\n"
   ]
  },
  {
   "cell_type": "markdown",
   "id": "38c22221-3571-45b2-9319-60334cc945af",
   "metadata": {},
   "source": [
    "The function code reads and prints the key of the uploaded object"
   ]
  },
  {
   "cell_type": "code",
   "execution_count": 23,
   "id": "1aaa351d-a469-4cd8-8824-21fe90f53a9c",
   "metadata": {},
   "outputs": [],
   "source": [
    "with open(\"trigger.py\", \"r\") as f:\n",
    "    function_code = f.read()\n"
   ]
  },
  {
   "cell_type": "code",
   "execution_count": 24,
   "id": "a903806a-e4d8-4e97-8927-321715e9a5eb",
   "metadata": {},
   "outputs": [
    {
     "name": "stdout",
     "output_type": "stream",
     "text": [
      "import json\n",
      "\n",
      "def lambda_trigger(event, context):\n",
      "    s3_object_key = event['Records'][0]['s3']['object']['key']\n",
      "    print(f\"File uploaded: {s3_object_key}\")\n",
      "    return s3_object_key\n"
     ]
    }
   ],
   "source": [
    "print(function_code)"
   ]
  },
  {
   "cell_type": "code",
   "execution_count": 25,
   "id": "583ffc23-6b33-4347-a0d7-1da293ea5c35",
   "metadata": {},
   "outputs": [],
   "source": [
    "with io.BytesIO() as deployment_package:\n",
    "    with zipfile.ZipFile(deployment_package, 'w') as zipf:\n",
    "        zipf.writestr('lambda_function.py', function_code)\n",
    "\n",
    "    create_function_response = lambda_client.create_function(\n",
    "       FunctionName=function_name,\n",
    "       Runtime=runtime,\n",
    "       Role=role_arn,\n",
    "       Handler=handler,\n",
    "       Code={\n",
    "           'ZipFile': deployment_package.getvalue()\n",
    "       }\n",
    "    )\n"
   ]
  },
  {
   "cell_type": "markdown",
   "id": "49622d87-dde6-4de6-beb6-55bead53c6e4",
   "metadata": {},
   "source": [
    "### Setting up the S3 Trigger"
   ]
  },
  {
   "cell_type": "code",
   "execution_count": 26,
   "id": "8f6a946b-db22-4de3-b323-5b4bd8c36da8",
   "metadata": {},
   "outputs": [
    {
     "data": {
      "text/plain": [
       "{'ResponseMetadata': {'RequestId': '0WNPC2EB8HYW2EKC',\n",
       "  'HostId': 'BV2eIPQY3GTplHGt9doLEaLTwt6UVARGaS/03CK0OfkMJbLo91sU7XYmQtbK0q6FBkE9hdO6i2o=',\n",
       "  'HTTPStatusCode': 200,\n",
       "  'HTTPHeaders': {'x-amz-id-2': 'BV2eIPQY3GTplHGt9doLEaLTwt6UVARGaS/03CK0OfkMJbLo91sU7XYmQtbK0q6FBkE9hdO6i2o=',\n",
       "   'x-amz-request-id': '0WNPC2EB8HYW2EKC',\n",
       "   'date': 'Mon, 11 Sep 2023 04:36:22 GMT',\n",
       "   'location': '/my-first-test-trigger',\n",
       "   'server': 'AmazonS3',\n",
       "   'content-length': '0'},\n",
       "  'RetryAttempts': 0},\n",
       " 'Location': '/my-first-test-trigger'}"
      ]
     },
     "execution_count": 26,
     "metadata": {},
     "output_type": "execute_result"
    }
   ],
   "source": [
    "s3_client = boto3.client('s3')\n",
    "### Let's create a new bucket ###\n",
    "bucket_name = \"my-first-test-trigger\"\n",
    "s3_client.create_bucket(Bucket=bucket_name)\n"
   ]
  },
  {
   "cell_type": "code",
   "execution_count": 27,
   "id": "86e0d9e3-17e0-4c93-aacc-7be41306104a",
   "metadata": {},
   "outputs": [
    {
     "data": {
      "text/plain": [
       "'arn:aws:lambda:us-east-1:472948420345:function:LambdaTrigger'"
      ]
     },
     "execution_count": 27,
     "metadata": {},
     "output_type": "execute_result"
    }
   ],
   "source": [
    "create_function_response[\"FunctionArn\"]"
   ]
  },
  {
   "cell_type": "markdown",
   "id": "28fad4ad-2ba7-4d56-867e-d36a16dc6ff7",
   "metadata": {},
   "source": [
    "In order to add the trigger we at first need to add the *InvokeFunction* permission to our lambda function.\n",
    "To this end we can use client.add_permission(*FunctionName*,*StatementId*,*Action*,*Principal*,*SourceArn*) ([Doc](https://boto3.amazonaws.com/v1/documentation/api/latest/reference/services/lambda/client/add_permission.html))\n",
    "\n",
    "1) FunctionName : Name or ARN of your lambda\n",
    "2) StatementId : Unique ID for this permission\n",
    "3) Action : What action do you want to perform (i.e what permission do you want to change)\n",
    "4) Principal : What AWS Service do you want to attach? (s3.amazonaws.com)\n",
    "5) SourceArn : ARN of your s3 bucket\n",
    "\n",
    "AddPermission needs to be manually added via IAM.  \n",
    "\n",
    "## @ Jose - you probably need to show this in the video\n",
    "## Add new inline permission -> lambda -> Either only add Permission or full access\n",
    "\n",
    "\n",
    "```{\n",
    "    \"Version\": \"2012-10-17\",\n",
    "    \"Statement\": [\n",
    "        {\n",
    "            \"Sid\": \"VisualEditor0\",\n",
    "            \"Effect\": \"Allow\",\n",
    "            \"Action\": \"lambda:*\",\n",
    "            \"Resource\": \"*\"\n",
    "        }\n",
    "    ]\n",
    "}"
   ]
  },
  {
   "cell_type": "code",
   "execution_count": 28,
   "id": "7853d164-f262-40da-b798-eb5f73fb4dec",
   "metadata": {},
   "outputs": [
    {
     "data": {
      "text/plain": [
       "{'ResponseMetadata': {'RequestId': 'a801e760-e985-46eb-8e38-b6ab698c01ac',\n",
       "  'HTTPStatusCode': 201,\n",
       "  'HTTPHeaders': {'date': 'Mon, 11 Sep 2023 04:36:26 GMT',\n",
       "   'content-type': 'application/json',\n",
       "   'content-length': '305',\n",
       "   'connection': 'keep-alive',\n",
       "   'x-amzn-requestid': 'a801e760-e985-46eb-8e38-b6ab698c01ac'},\n",
       "  'RetryAttempts': 0},\n",
       " 'Statement': '{\"Sid\":\"ID1\",\"Effect\":\"Allow\",\"Principal\":{\"Service\":\"s3.amazonaws.com\"},\"Action\":\"lambda:InvokeFunction\",\"Resource\":\"arn:aws:lambda:us-east-1:472948420345:function:LambdaTrigger\",\"Condition\":{\"ArnLike\":{\"AWS:SourceArn\":\"arn:aws:s3:::my-first-test-trigger\"}}}'}"
      ]
     },
     "execution_count": 28,
     "metadata": {},
     "output_type": "execute_result"
    }
   ],
   "source": [
    "bucket_arn = \"arn:aws:s3:::my-first-test-trigger\"  # Change my-first-test-trigger to your bucket name\n",
    "lambda_client.add_permission(\n",
    "     FunctionName=function_name,\n",
    "     StatementId='ID1',  # Unique statement ID\n",
    "     Action='lambda:InvokeFunction',  # Allow to invoke the function\n",
    "     Principal='s3.amazonaws.com',  # \n",
    "     SourceArn=bucket_arn,\n",
    " )\n"
   ]
  },
  {
   "cell_type": "markdown",
   "id": "d191f386-2182-4536-930b-0851d19d310d",
   "metadata": {},
   "source": [
    "Next we add the trigger (notification_configuration) to our bucket using client.put_bucket_notification_configuration(*Bucket*, *NotificationConfiguration*) ([Doc](https://boto3.amazonaws.com/v1/documentation/api/latest/reference/services/s3/client/put_bucket_notification_configuration.html))\n",
    "\n",
    "The *NotificationConfiguration* is a LambdaFunctionConfigurations object that contains the LambdaFunctionArn and the actual [trigger event](https://docs.aws.amazon.com/AmazonS3/latest/API/API_LambdaFunctionConfiguration.html) (s3:ObjectCreated:*) "
   ]
  },
  {
   "cell_type": "code",
   "execution_count": 29,
   "id": "fa9965e8-3982-4430-99dd-d2be7cf66318",
   "metadata": {},
   "outputs": [
    {
     "data": {
      "text/plain": [
       "{'ResponseMetadata': {'RequestId': '80X07N82FZYEJGKP',\n",
       "  'HostId': 'Ub4DM5YpxYl9g8tOJSUQQsU2v8D2FHjX08uLcwtHc4hufUrFZvdlzdGayLJgf11AZJz92j4Xh5Y=',\n",
       "  'HTTPStatusCode': 200,\n",
       "  'HTTPHeaders': {'x-amz-id-2': 'Ub4DM5YpxYl9g8tOJSUQQsU2v8D2FHjX08uLcwtHc4hufUrFZvdlzdGayLJgf11AZJz92j4Xh5Y=',\n",
       "   'x-amz-request-id': '80X07N82FZYEJGKP',\n",
       "   'date': 'Mon, 11 Sep 2023 04:36:33 GMT',\n",
       "   'server': 'AmazonS3',\n",
       "   'content-length': '0'},\n",
       "  'RetryAttempts': 0}}"
      ]
     },
     "execution_count": 29,
     "metadata": {},
     "output_type": "execute_result"
    }
   ],
   "source": [
    "# Define the event configuration\n",
    "event_configuration = {\n",
    "    'LambdaFunctionConfigurations': [\n",
    "        {\n",
    "            'LambdaFunctionArn': create_function_response[\"FunctionArn\"],\n",
    "            'Events': ['s3:ObjectCreated:*'],\n",
    "        }\n",
    "    ]\n",
    "}\n",
    "\n",
    "# Configure the S3 event trigger\n",
    "s3_client.put_bucket_notification_configuration(\n",
    "    Bucket=bucket_name,\n",
    "    NotificationConfiguration=event_configuration\n",
    ")\n",
    "\n"
   ]
  },
  {
   "cell_type": "markdown",
   "id": "e16df23a-1ad3-4bde-9682-2225b3c07801",
   "metadata": {},
   "source": [
    "If you check your lambda function, you should now see the S3 trigger"
   ]
  },
  {
   "cell_type": "markdown",
   "id": "4e5c2660-7581-4af6-abfe-c5f3990ffc14",
   "metadata": {},
   "source": [
    "Let's upload a file:"
   ]
  },
  {
   "cell_type": "code",
   "execution_count": 30,
   "id": "d0b72150-314a-4aa5-93ad-789cb4ca5209",
   "metadata": {},
   "outputs": [],
   "source": [
    "with open(\"Test.txt\", \"w\") as f:\n",
    "    f.write(\"Hello World!\")"
   ]
  },
  {
   "cell_type": "code",
   "execution_count": 31,
   "id": "a3ef1c3e-c357-4f83-adef-8f6404fa0ff0",
   "metadata": {},
   "outputs": [],
   "source": [
    "s3_client.upload_file(Filename=\"Test.txt\", Bucket=bucket_name, Key=\"Test_in_bucket.txt\")"
   ]
  },
  {
   "cell_type": "markdown",
   "id": "dbea5263-ff79-4056-9652-b07f49c867ee",
   "metadata": {},
   "source": [
    "To inspect the log, we can interact with [Cloudwatch](https://boto3.amazonaws.com/v1/documentation/api/latest/reference/services/cloudwatch.html)"
   ]
  },
  {
   "cell_type": "code",
   "execution_count": 32,
   "id": "22839f21-dc0c-4fff-aaba-17928a9b4dd9",
   "metadata": {},
   "outputs": [],
   "source": [
    "cloudwatch_logs = boto3.client('logs', region_name=\"us-east-1\")\n",
    "response = cloudwatch_logs.describe_log_groups()"
   ]
  },
  {
   "cell_type": "code",
   "execution_count": 33,
   "id": "a57c373e-e6de-468d-933a-fe05d7f4cbde",
   "metadata": {},
   "outputs": [],
   "source": [
    "log_streams = cloudwatch_logs.describe_log_streams(\n",
    "    logGroupName=f'/aws/lambda/{function_name}',\n",
    "    orderBy='LastEventTime',\n",
    "    descending=True\n",
    ")[\"logStreams\"]\n"
   ]
  },
  {
   "cell_type": "code",
   "execution_count": 34,
   "id": "fc4e1ddf-a5d2-4617-9819-81eff374182c",
   "metadata": {
    "scrolled": true
   },
   "outputs": [
    {
     "data": {
      "text/plain": [
       "{'events': [{'timestamp': 1694407001212,\n",
       "   'message': 'INIT_START Runtime Version: python:3.8.v26\\tRuntime Version ARN: arn:aws:lambda:us-east-1::runtime:81f077a44b32842209c33a8a4ecbe13f17dabc0964eaae632cb27846f04bf85e\\n',\n",
       "   'ingestionTime': 1694407005993},\n",
       "  {'timestamp': 1694407001329,\n",
       "   'message': 'START RequestId: 718a17e1-4ea9-498e-b65c-2cfb0c577155 Version: $LATEST\\n',\n",
       "   'ingestionTime': 1694407005993},\n",
       "  {'timestamp': 1694407001329,\n",
       "   'message': 'File uploaded: Test_in_bucket.txt\\n',\n",
       "   'ingestionTime': 1694407005993},\n",
       "  {'timestamp': 1694407001330,\n",
       "   'message': 'END RequestId: 718a17e1-4ea9-498e-b65c-2cfb0c577155\\n',\n",
       "   'ingestionTime': 1694407005993},\n",
       "  {'timestamp': 1694407001331,\n",
       "   'message': 'REPORT RequestId: 718a17e1-4ea9-498e-b65c-2cfb0c577155\\tDuration: 1.69 ms\\tBilled Duration: 2 ms\\tMemory Size: 128 MB\\tMax Memory Used: 38 MB\\tInit Duration: 116.32 ms\\t\\n',\n",
       "   'ingestionTime': 1694407005993}],\n",
       " 'nextForwardToken': 'f/37786538799288969426672783571068587591312450751914639364/s',\n",
       " 'nextBackwardToken': 'b/37786538796635180748047639417225837116867295732702969856/s',\n",
       " 'ResponseMetadata': {'RequestId': '442abe09-1e4a-48e8-a1cb-a0c8647f048c',\n",
       "  'HTTPStatusCode': 200,\n",
       "  'HTTPHeaders': {'x-amzn-requestid': '442abe09-1e4a-48e8-a1cb-a0c8647f048c',\n",
       "   'content-type': 'application/x-amz-json-1.1',\n",
       "   'content-length': '1373',\n",
       "   'date': 'Mon, 11 Sep 2023 04:36:55 GMT'},\n",
       "  'RetryAttempts': 0}}"
      ]
     },
     "execution_count": 34,
     "metadata": {},
     "output_type": "execute_result"
    }
   ],
   "source": [
    "cloudwatch_logs.get_log_events(\n",
    "    logGroupName=f'/aws/lambda/{function_name}',\n",
    "    logStreamName=log_streams[0][\"logStreamName\"]\n",
    ")\n"
   ]
  },
  {
   "cell_type": "markdown",
   "id": "6d0e3a48-a37e-4391-8bf4-728ae049d184",
   "metadata": {},
   "source": [
    "Last but not least, let's delete our function"
   ]
  },
  {
   "cell_type": "code",
   "execution_count": 35,
   "id": "1b0cb362-f359-405f-bd37-ed3a98ef8434",
   "metadata": {},
   "outputs": [
    {
     "data": {
      "text/plain": [
       "{'ResponseMetadata': {'RequestId': 'adb2d6ca-4ef4-4f43-9a75-89db76503006',\n",
       "  'HTTPStatusCode': 204,\n",
       "  'HTTPHeaders': {'date': 'Mon, 11 Sep 2023 04:37:09 GMT',\n",
       "   'content-type': 'application/json',\n",
       "   'connection': 'keep-alive',\n",
       "   'x-amzn-requestid': 'adb2d6ca-4ef4-4f43-9a75-89db76503006'},\n",
       "  'RetryAttempts': 0}}"
      ]
     },
     "execution_count": 35,
     "metadata": {},
     "output_type": "execute_result"
    }
   ],
   "source": [
    "lambda_client.delete_function(FunctionName=function_name)"
   ]
  }
 ],
 "metadata": {
  "kernelspec": {
   "display_name": "Python 3 (ipykernel)",
   "language": "python",
   "name": "python3"
  },
  "language_info": {
   "codemirror_mode": {
    "name": "ipython",
    "version": 3
   },
   "file_extension": ".py",
   "mimetype": "text/x-python",
   "name": "python",
   "nbconvert_exporter": "python",
   "pygments_lexer": "ipython3",
   "version": "3.10.0"
  }
 },
 "nbformat": 4,
 "nbformat_minor": 5
}

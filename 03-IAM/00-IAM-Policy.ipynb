{
 "cells": [
  {
   "cell_type": "markdown",
   "id": "7e1ccec3",
   "metadata": {},
   "source": [
    "![https://pieriantraining.com/](../PTCenteredPurple.png)\n",
    "\n",
    "*Copyright: Pierian Training*"
   ]
  },
  {
   "cell_type": "markdown",
   "id": "ca2a39f4",
   "metadata": {},
   "source": [
    "# IAM Policy\n",
    "\n",
    "Boto3 is the AWS (Amazon Web Services) SDK for Python. It allows Python developers to write software that uses services like Amazon S3, Amazon EC2, and others. For IAM (Identity and Access Management), the boto3 library provides an IAM client that you can use to interact with the service.\n",
    "\n",
    "Doc Link: https://boto3.amazonaws.com/v1/documentation/api/latest/reference/services/iam.html\n",
    "\n",
    "The most commonly used methods with the boto3 IAM client tend to be those for creating, managing, and deleting users, roles, and access policies. \n",
    "\n",
    "Here are some of the most common methods:"
   ]
  },
  {
   "cell_type": "markdown",
   "id": "f3b6dc26",
   "metadata": {},
   "source": [
    "* create_user: This method creates a new IAM user for your AWS account."
   ]
  },
  {
   "cell_type": "code",
   "execution_count": 1,
   "id": "f1f95224",
   "metadata": {},
   "outputs": [],
   "source": [
    "import boto3 \n",
    "iam_client = boto3.client('iam')"
   ]
  },
  {
   "cell_type": "code",
   "execution_count": 2,
   "id": "d3c2e2be",
   "metadata": {},
   "outputs": [
    {
     "data": {
      "text/plain": [
       "{'User': {'Path': '/',\n",
       "  'UserName': 'newuser',\n",
       "  'UserId': 'AIDAW4HPMF34X4EUZDPKX',\n",
       "  'Arn': 'arn:aws:iam::472948420345:user/newuser',\n",
       "  'CreateDate': datetime.datetime(2023, 9, 18, 5, 20, 10, tzinfo=tzutc())},\n",
       " 'ResponseMetadata': {'RequestId': '28e438e9-2f3c-4d9e-929f-ada1bf4b2233',\n",
       "  'HTTPStatusCode': 200,\n",
       "  'HTTPHeaders': {'x-amzn-requestid': '28e438e9-2f3c-4d9e-929f-ada1bf4b2233',\n",
       "   'content-type': 'text/xml',\n",
       "   'content-length': '475',\n",
       "   'date': 'Mon, 18 Sep 2023 05:20:10 GMT'},\n",
       "  'RetryAttempts': 0}}"
      ]
     },
     "execution_count": 2,
     "metadata": {},
     "output_type": "execute_result"
    }
   ],
   "source": [
    "iam_client.create_user(UserName='newuser')"
   ]
  },
  {
   "cell_type": "markdown",
   "id": "cba5f956",
   "metadata": {},
   "source": [
    "### List Users\n",
    "\n",
    "list_users: This method retrieves details about the IAM users in an AWS account."
   ]
  },
  {
   "cell_type": "code",
   "execution_count": 3,
   "id": "6011c6b2",
   "metadata": {},
   "outputs": [],
   "source": [
    "response = iam_client.list_users()"
   ]
  },
  {
   "cell_type": "code",
   "execution_count": 7,
   "id": "ac107e45",
   "metadata": {},
   "outputs": [
    {
     "data": {
      "text/plain": [
       "{'Path': '/',\n",
       " 'UserName': 'newuser',\n",
       " 'UserId': 'AIDAW4HPMF34X4EUZDPKX',\n",
       " 'Arn': 'arn:aws:iam::472948420345:user/newuser',\n",
       " 'CreateDate': datetime.datetime(2023, 9, 18, 5, 20, 10, tzinfo=tzutc())}"
      ]
     },
     "execution_count": 7,
     "metadata": {},
     "output_type": "execute_result"
    }
   ],
   "source": [
    "response['Users'][3]"
   ]
  },
  {
   "cell_type": "markdown",
   "id": "8682e55c",
   "metadata": {},
   "source": [
    "### List Groups"
   ]
  },
  {
   "cell_type": "code",
   "execution_count": 11,
   "id": "9304f91a",
   "metadata": {},
   "outputs": [
    {
     "name": "stdout",
     "output_type": "stream",
     "text": [
      "boto3-2\n",
      "boto3-course\n",
      "full-permission\n",
      "TA-Test-Access\n"
     ]
    }
   ],
   "source": [
    "import boto3\n",
    "\n",
    "# Create an IAM client\n",
    "iam_client = boto3.client('iam')\n",
    "\n",
    "# List groups\n",
    "response = iam_client.list_groups()\n",
    "\n",
    "for group in response['Groups']:\n",
    "    print(group['GroupName'])\n"
   ]
  },
  {
   "cell_type": "markdown",
   "id": "6e1e85e2",
   "metadata": {},
   "source": [
    "### Deleting a User\n",
    "\n",
    "To delete a user named new-user using boto3 for AWS IAM, follow these steps:\n",
    "\n",
    "Make sure the user does not have any attached access keys, policies, group memberships, etc. AWS does not allow deleting a user with attached resources.\n",
    "Once you've ensured the user new-user is detached from all resources, you can call the delete_user method.\n",
    "Here's a script that demonstrates how to delete the user new-user. This script assumes you've taken care of step 1 and removed all attached resources."
   ]
  },
  {
   "cell_type": "code",
   "execution_count": 12,
   "id": "22d05b47",
   "metadata": {},
   "outputs": [
    {
     "name": "stdout",
     "output_type": "stream",
     "text": [
      "User 'newuser' deleted successfully.\n"
     ]
    }
   ],
   "source": [
    "import boto3\n",
    "\n",
    "# Create an IAM client\n",
    "iam_client = boto3.client('iam')\n",
    "\n",
    "# Delete the user\n",
    "try:\n",
    "    response = iam_client.delete_user(UserName='newuser')\n",
    "    print(\"User 'newuser' deleted successfully.\")\n",
    "except Exception as e:\n",
    "    print(f\"Error deleting user: {e}\")\n"
   ]
  },
  {
   "cell_type": "code",
   "execution_count": null,
   "id": "b0790278",
   "metadata": {},
   "outputs": [],
   "source": []
  }
 ],
 "metadata": {
  "kernelspec": {
   "display_name": "Python 3 (ipykernel)",
   "language": "python",
   "name": "python3"
  },
  "language_info": {
   "codemirror_mode": {
    "name": "ipython",
    "version": 3
   },
   "file_extension": ".py",
   "mimetype": "text/x-python",
   "name": "python",
   "nbconvert_exporter": "python",
   "pygments_lexer": "ipython3",
   "version": "3.9.12"
  }
 },
 "nbformat": 4,
 "nbformat_minor": 5
}

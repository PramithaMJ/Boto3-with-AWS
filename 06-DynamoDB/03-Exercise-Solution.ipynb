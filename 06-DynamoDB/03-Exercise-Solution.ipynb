{
 "cells": [
  {
   "cell_type": "markdown",
   "id": "ab216909-ba55-4869-b076-a554b4d142ce",
   "metadata": {},
   "source": [
    "![https://pieriantraining.com/](../PTCenteredPurple.png)"
   ]
  },
  {
   "cell_type": "markdown",
   "id": "d47ff660-78be-4d7f-84b1-18032041ed9f",
   "metadata": {},
   "source": [
    "In this exercise, you are going to create a database using the [Netflix Movies and TV Shows](https://www.kaggle.com/datasets/shivamb/netflix-shows?resource=download).\n",
    "\n",
    "You can find the csv file in this directory (netflix_titles.csv)"
   ]
  },
  {
   "cell_type": "code",
   "execution_count": 1,
   "id": "2da79cb5-bde3-4c30-b59f-d0e69d6eafe9",
   "metadata": {},
   "outputs": [],
   "source": [
    "with open(\"netflix_titles.csv\", \"r\") as f:\n",
    "    lines = f.readlines()"
   ]
  },
  {
   "cell_type": "code",
   "execution_count": 2,
   "id": "2933de7e-8f5e-4bad-9331-b4ec94e7ef94",
   "metadata": {},
   "outputs": [
    {
     "data": {
      "text/plain": [
       "['show_id,type,title,director,cast,country,date_added,release_year,rating,duration,listed_in,description\\n',\n",
       " 's1,Movie,Dick Johnson Is Dead,Kirsten Johnson,,United States,\"September 25, 2021\",2020,PG-13,90 min,Documentaries,\"As her father nears the end of his life, filmmaker Kirsten Johnson stages his death in inventive and comical ways to help them both face the inevitable.\"\\n',\n",
       " 's2,TV Show,Blood & Water,,\"Ama Qamata, Khosi Ngema, Gail Mabalane, Thabang Molaba, Dillon Windvogel, Natasha Thahane, Arno Greeff, Xolile Tshabalala, Getmore Sithole, Cindy Mahlangu, Ryle De Morny, Greteli Fincham, Sello Maake Ka-Ncube, Odwa Gwanya, Mekaila Mathys, Sandi Schultz, Duane Williams, Shamilla Miller, Patrick Mofokeng\",South Africa,\"September 24, 2021\",2021,TV-MA,2 Seasons,\"International TV Shows, TV Dramas, TV Mysteries\",\"After crossing paths at a party, a Cape Town teen sets out to prove whether a private-school swimming star is her sister who was abducted at birth.\"\\n',\n",
       " 's3,TV Show,Ganglands,Julien Leclercq,\"Sami Bouajila, Tracy Gotoas, Samuel Jouy, Nabiha Akkari, Sofia Lesaffre, Salim Kechiouche, Noureddine Farihi, Geert Van Rampelberg, Bakary Diombera\",,\"September 24, 2021\",2021,TV-MA,1 Season,\"Crime TV Shows, International TV Shows, TV Action & Adventure\",\"To protect his family from a powerful drug lord, skilled thief Mehdi and his expert team of robbers are pulled into a violent and deadly turf war.\"\\n',\n",
       " 's4,TV Show,Jailbirds New Orleans,,,,\"September 24, 2021\",2021,TV-MA,1 Season,\"Docuseries, Reality TV\",\"Feuds, flirtations and toilet talk go down among the incarcerated women at the Orleans Justice Center in New Orleans on this gritty reality series.\"\\n']"
      ]
     },
     "execution_count": 2,
     "metadata": {},
     "output_type": "execute_result"
    }
   ],
   "source": [
    "lines[:5]"
   ]
  },
  {
   "cell_type": "markdown",
   "id": "9cca596a-7e29-4f29-b7c9-04f62ec44b28",
   "metadata": {},
   "source": [
    "**Task:** Create the table attributes and its schema. Use **show_id** as the partition key and **release_year** as range key.\n",
    "Use *10* for both, read and write capacity units"
   ]
  },
  {
   "cell_type": "code",
   "execution_count": 3,
   "id": "29705abe-610d-494f-84ca-beea226ab37c",
   "metadata": {},
   "outputs": [],
   "source": [
    "table_name = \"Shows\"\n",
    "attributes = [\n",
    "    {\n",
    "        \"AttributeName\": \"show_id\",\n",
    "        \"AttributeType\" : \"S\"  # String\n",
    "    },\n",
    "\n",
    "    {\n",
    "        \"AttributeName\": \"release_year\",\n",
    "        \"AttributeType\" : \"N\"  # Number\n",
    "    },\n",
    "\n",
    "]\n",
    "\n",
    "key_schema = [\n",
    "    {\n",
    "        'AttributeName': 'show_id',\n",
    "        'KeyType': 'HASH'  # Hash Key for Primary Key\n",
    "    },\n",
    "    {\n",
    "        'AttributeName': 'release_year',\n",
    "        'KeyType': 'RANGE'  # Range key for sorting\n",
    "    }\n",
    "]\n",
    "\n",
    "provisioned_throughput = {\n",
    "    'ReadCapacityUnits': 10,\n",
    "    'WriteCapacityUnits': 10\n",
    "}\n"
   ]
  },
  {
   "cell_type": "markdown",
   "id": "c7a90910-6ea6-4559-b358-71eea6eb0fce",
   "metadata": {},
   "source": [
    "We want to use a [Global Secondary Index](https://docs.aws.amazon.com/amazondynamodb/latest/developerguide/GSI.html#GSI.scenario), to be able to query for the Country ([Doc](https://boto3.amazonaws.com/v1/documentation/api/latest/reference/services/dynamodb/client/create_table.html#:~:text=(string)%20%E2%80%93-,GlobalSecondaryIndexes,-(list)%20%E2%80%93))\n",
    "\n",
    "**Task:** Create the Table with above schema and the secondary index\n"
   ]
  },
  {
   "cell_type": "code",
   "execution_count": 4,
   "id": "1da90cd6-8f2d-49cf-b17e-478e539e8f8e",
   "metadata": {},
   "outputs": [],
   "source": [
    "attributes.append({\"AttributeName\": \"country\", \"AttributeType\" : \"S\"})"
   ]
  },
  {
   "cell_type": "code",
   "execution_count": 5,
   "id": "c2068422-d359-43d9-ae76-c900ea6b544a",
   "metadata": {},
   "outputs": [
    {
     "data": {
      "text/plain": [
       "[{'AttributeName': 'show_id', 'AttributeType': 'S'},\n",
       " {'AttributeName': 'release_year', 'AttributeType': 'N'},\n",
       " {'AttributeName': 'country', 'AttributeType': 'S'}]"
      ]
     },
     "execution_count": 5,
     "metadata": {},
     "output_type": "execute_result"
    }
   ],
   "source": [
    "attributes"
   ]
  },
  {
   "cell_type": "code",
   "execution_count": 1,
   "id": "66530d37-461f-420e-bfc2-db3bcdf7c83e",
   "metadata": {},
   "outputs": [],
   "source": [
    "import boto3\n",
    "client = boto3.client(\"dynamodb\", region_name=\"us-east-1\")"
   ]
  },
  {
   "cell_type": "code",
   "execution_count": 7,
   "id": "becdb8dd-9dc1-49d6-9975-58ec6717a493",
   "metadata": {},
   "outputs": [],
   "source": [
    "response = client.create_table(\n",
    "        TableName=table_name,\n",
    "        AttributeDefinitions=attributes,\n",
    "        KeySchema=key_schema,\n",
    "        ProvisionedThroughput=provisioned_throughput,\n",
    "        GlobalSecondaryIndexes=[\n",
    "        {\n",
    "            'IndexName': 'idx1',  # The name of the global secondary index. Must be unique only for this table.\n",
    "            'KeySchema': [\n",
    "               {\n",
    "                  'AttributeName': 'country',\n",
    "                  'KeyType': 'HASH'\n",
    "               }\n",
    "             ],\n",
    "             'Projection': {\n",
    "               'ProjectionType': 'ALL'  # Project all information\n",
    "             },\n",
    "             'ProvisionedThroughput': {\n",
    "                  'ReadCapacityUnits': 10,\n",
    "                  'WriteCapacityUnits': 10\n",
    "             }\n",
    "        }\n",
    "    ],\n",
    "\n",
    ")"
   ]
  },
  {
   "cell_type": "markdown",
   "id": "5a58c9a3-60a9-43ce-b3d3-319011391885",
   "metadata": {},
   "source": [
    "**Task:** Read the data from the csv file to a list of dictionaries"
   ]
  },
  {
   "cell_type": "code",
   "execution_count": 8,
   "id": "bc727e2a-b4e4-4115-a81f-5390dd0fdd3e",
   "metadata": {},
   "outputs": [],
   "source": [
    "import csv\n",
    "data_list = []\n",
    "with open(\"netflix_titles.csv\", \"r\") as f:\n",
    "    csv_reader = csv.DictReader(f)\n",
    "    for row in csv_reader:\n",
    "        data_list.append(row)"
   ]
  },
  {
   "cell_type": "markdown",
   "id": "8cea79e0-8515-4c7f-950d-d8b57cd61b7c",
   "metadata": {},
   "source": [
    "**Task:** Create the batch requests to upload the data. Note, that batch requests can only handle 25 items at once. Add the data types according to the elements."
   ]
  },
  {
   "cell_type": "code",
   "execution_count": 12,
   "id": "58b68051-0b1b-467b-8f8d-0c750d246ef7",
   "metadata": {},
   "outputs": [],
   "source": [
    "items_to_upload = []\n",
    "\n",
    "for item in data_list:\n",
    "    put_request = {\"PutRequest\": {\"Item\": {}}}\n",
    "    for key, value in item.items():\n",
    "        \n",
    "        if not value:  # Some fields are empty and dynamo db cannot handle empty fields for keys\n",
    "            value = \"None\"\n",
    "\n",
    "        try:\n",
    "            float(value)\n",
    "            put_request[\"PutRequest\"][\"Item\"][key] = {'N': value}\n",
    "        except ValueError:\n",
    "            put_request[\"PutRequest\"][\"Item\"][key] = {'S': value}\n",
    "        \n",
    "        \n",
    "    items_to_upload.append(put_request)\n",
    "\n",
    "    if len(items_to_upload) == 25:  # Upload the batch when it consists of 25 elements\n",
    "        response = client.batch_write_item(RequestItems={\n",
    "                                                table_name: items_to_upload  \n",
    "                                            }\n",
    "                                          )\n",
    "        items_to_upload = []\n"
   ]
  },
  {
   "cell_type": "markdown",
   "id": "a8f41ce3-4cf1-4899-9b36-49de0aff9280",
   "metadata": {},
   "source": [
    "As we set ProvisionedThroughput to a low value of 10 this might take a while as aws throttels the writing operations (but is very cheap)"
   ]
  },
  {
   "cell_type": "markdown",
   "id": "ffa929d7-ef17-4b48-b845-0fee23c991b1",
   "metadata": {},
   "source": [
    "**Task:** What is the name of the show with show id 10"
   ]
  },
  {
   "cell_type": "code",
   "execution_count": 13,
   "id": "745c0f95-0896-45b2-8ac5-547e27719aa4",
   "metadata": {},
   "outputs": [
    {
     "data": {
      "text/plain": [
       "{'S': 'The Starling'}"
      ]
     },
     "execution_count": 13,
     "metadata": {},
     "output_type": "execute_result"
    }
   ],
   "source": [
    "response = client.query(TableName=\"Shows\",\n",
    "             KeyConditionExpression='show_id = :id',\n",
    "            ExpressionAttributeValues={':id': {'S': \"s10\"}}\n",
    ")\n",
    "response[\"Items\"][0][\"title\"]"
   ]
  },
  {
   "cell_type": "markdown",
   "id": "942909d5-9c1b-45c7-bd2c-5865551586e0",
   "metadata": {},
   "source": [
    "**Task:** What shows are from Germany?<br />\n",
    "Hint: You need to pass IndexName to the query function"
   ]
  },
  {
   "cell_type": "code",
   "execution_count": 55,
   "id": "a7a7736e-ad4b-4853-903e-792cf5e0d56d",
   "metadata": {},
   "outputs": [],
   "source": [
    "response = client.query(TableName=\"Shows\",\n",
    "             KeyConditionExpression='country = :id',\n",
    "             IndexName='idx1',\n",
    "            ExpressionAttributeValues={':id': {'S': \"Germany\"}}\n",
    ")"
   ]
  },
  {
   "cell_type": "code",
   "execution_count": 20,
   "id": "11539dc5-5ed1-4926-814f-f22e16e49d15",
   "metadata": {
    "scrolled": true
   },
   "outputs": [
    {
     "data": {
      "text/plain": [
       "[{'S': 'Kidnapping Stella'},\n",
       " {'S': 'Hazel Brugger: Tropical'},\n",
       " {'S': 'Dieter Nuhr: Nuhr in Berlin'},\n",
       " {'S': 'Unorthodox'},\n",
       " {'S': 'Perfume'},\n",
       " {'S': 'Babylon Berlin'},\n",
       " {'S': 'The Houseboat'},\n",
       " {'S': 'A Perfect Crime'},\n",
       " {'S': 'Charité'},\n",
       " {'S': 'A Heavy Heart'},\n",
       " {'S': 'Frank Elstner: Just One Last Question'},\n",
       " {'S': 'How to Be Really Bad'},\n",
       " {'S': 'Biohackers'},\n",
       " {'S': 'Rock My Heart'},\n",
       " {'S': 'Berlin, I Love You'},\n",
       " {'S': 'Criminal: Germany'},\n",
       " {'S': 'How to Sell Drugs Online (Fast)'},\n",
       " {'S': 'Enissa Amani: Ehrenwort'},\n",
       " {'S': 'Holiday Secrets'},\n",
       " {'S': 'Nailed It! Germany'},\n",
       " {'S': 'Tribes of Europa'},\n",
       " {'S': '3 Türken & ein Baby'},\n",
       " {'S': 'Lommbock'},\n",
       " {'S': 'Dogs of Berlin'},\n",
       " {'S': 'Biking Borders'},\n",
       " {'S': 'Bibi & Tina'},\n",
       " {'S': \"Freaks – You're One of Us\"},\n",
       " {'S': 'The NSU-Complex'},\n",
       " {'S': 'We Are Young. We Are Strong.'},\n",
       " {'S': 'Berlin Calling'},\n",
       " {'S': 'Latte and the Magic Waterstone'},\n",
       " {'S': 'Berlin, Berlin: Lolle on the Run'},\n",
       " {'S': 'Bibi & Tina: Tohuwabohu Total'},\n",
       " {'S': 'Sing On! Germany'},\n",
       " {'S': 'Expedition Happiness'},\n",
       " {'S': 'Christmas Crossfire'},\n",
       " {'S': 'Schubert In Love'},\n",
       " {'S': 'Bibi & Tina II'},\n",
       " {'S': 'RebellComedy: Straight Outta the Zoo'},\n",
       " {'S': 'Isi & Ossi'},\n",
       " {'S': 'Over Christmas'},\n",
       " {'S': 'The Physician'},\n",
       " {'S': 'Making Unorthodox'},\n",
       " {'S': 'The Last Word'},\n",
       " {'S': 'Felix Lobrecht: Hype'},\n",
       " {'S': 'Bibi & Tina: Girls Versus Boys'},\n",
       " {'S': 'Dancing Quietly'},\n",
       " {'S': 'NSU German History X'},\n",
       " {'S': 'Stereo'},\n",
       " {'S': 'Pettersson and Findus 2'},\n",
       " {'S': 'Into the Beat'},\n",
       " {'S': 'Rising High'},\n",
       " {'S': 'Beak & Brain: Genius Birds From Down Under'},\n",
       " {'S': 'Familiye'},\n",
       " {'S': 'Offline - Das leben ist kein bonuslevel'},\n",
       " {'S': \"Look Who's Back\"},\n",
       " {'S': 'Alles ist gut'},\n",
       " {'S': 'My Fuhrer'},\n",
       " {'S': 'Dream Boat'},\n",
       " {'S': 'System Crasher'},\n",
       " {'S': 'Pedal the World'},\n",
       " {'S': 'Who Am I'},\n",
       " {'S': 'We Are the Wave'},\n",
       " {'S': 'Barbarians'},\n",
       " {'S': 'Friend Request'},\n",
       " {'S': 'The Lives of Others'},\n",
       " {'S': 'Right Here Right Now'}]"
      ]
     },
     "execution_count": 20,
     "metadata": {},
     "output_type": "execute_result"
    }
   ],
   "source": [
    "[item[\"title\"] for item in response[\"Items\"]]"
   ]
  },
  {
   "cell_type": "markdown",
   "id": "dadbf874-b1be-4e0d-910c-ceb63342b2c8",
   "metadata": {},
   "source": [
    "**Task:** What shows are from India and from 2021 or later?"
   ]
  },
  {
   "cell_type": "code",
   "execution_count": 53,
   "id": "06e23320-20a1-4d73-9e8d-41cbd1299296",
   "metadata": {},
   "outputs": [],
   "source": [
    "items = []\n",
    "response = client.scan(TableName=\"Shows\",\n",
    "            FilterExpression=\"release_year >= :num AND country = :c\",  \n",
    "            ExpressionAttributeValues={\":num\":{\"N\":\"2021\"}, \":c\": {\"S\": \"India\"}}  \n",
    "            )\n",
    "items.extend(response[\"Items\"])\n",
    "\n",
    "## Code for paginating through results\n",
    "while \"LastEvaluatedKey\" in response.keys():\n",
    "    response = client.scan(TableName=\"Shows\",\n",
    "            FilterExpression=\"release_year >= :num AND country = :c\",  \n",
    "            ExpressionAttributeValues={\":num\":{\"N\":\"2021\"}, \":c\": {\"S\": \"India\"}} ,\n",
    "            ExclusiveStartKey=response[\"LastEvaluatedKey\"])\n",
    "    items.extend(response[\"Items\"])\n"
   ]
  },
  {
   "cell_type": "code",
   "execution_count": 54,
   "id": "56b1b8d8-e15d-438c-8e9d-e8241c162d30",
   "metadata": {
    "scrolled": true
   },
   "outputs": [
    {
     "data": {
      "text/plain": [
       "[{'S': 'Navarasa'},\n",
       " {'S': 'Bombay Begums'},\n",
       " {'S': 'Pagglait'},\n",
       " {'S': '99 Songs'},\n",
       " {'S': 'The Girl on the Train'},\n",
       " {'S': 'C/O Kaadhal'},\n",
       " {'S': 'Tuesdays & Fridays'},\n",
       " {'S': 'Kota Factory'},\n",
       " {'S': 'Ahaan'},\n",
       " {'S': 'The Disciple'},\n",
       " {'S': 'Aelay'},\n",
       " {'S': 'Sardar Ka Grandson'},\n",
       " {'S': 'Searching For Sheela'},\n",
       " {'S': 'Tribhanga - Tedhi Medhi Crazy'},\n",
       " {'S': 'The Big Day'},\n",
       " {'S': 'Chhota Bheem'},\n",
       " {'S': 'Ajeeb Daastaans'},\n",
       " {'S': 'Roohi'},\n",
       " {'S': 'Nayattu'},\n",
       " {'S': 'Mandela'},\n",
       " {'S': 'Irul'},\n",
       " {'S': 'Mighty Little Bheem: Kite Festival'},\n",
       " {'S': 'Thimmarusu'},\n",
       " {'S': 'Sarbath'},\n",
       " {'S': 'Red'},\n",
       " {'S': 'Pitta Kathalu'},\n",
       " {'S': 'Haseen Dillruba'},\n",
       " {'S': 'Lava Ka Dhaava'},\n",
       " {'S': 'Cinema Bandi'},\n",
       " {'S': 'Milestone'},\n",
       " {'S': 'Alma Matters'}]"
      ]
     },
     "execution_count": 54,
     "metadata": {},
     "output_type": "execute_result"
    }
   ],
   "source": [
    "[item[\"title\"] for item in items]"
   ]
  },
  {
   "cell_type": "markdown",
   "id": "abf77507-4076-438a-b155-20588798db10",
   "metadata": {},
   "source": [
    "**Task:** Can you also perform this operation using a query?"
   ]
  },
  {
   "cell_type": "markdown",
   "id": "07622257-1de7-4ad5-966a-9bf3067fff6e",
   "metadata": {},
   "source": [
    "NO!\n",
    "DynamoDB's Query operation on a Global Secondary Index doesn't support filtering based on a range condition directly in the KeyConditionExpression. Instead, you need to structure your data and queries differently to achieve the desired result.\n",
    "\n",
    "In DynamoDB, global secondary indices are best suited for queries where you have a specific hash key value and you want to retrieve items with that hash key from the index. In the above case, querying for shows from a specific country and release year is only achievable using a scan"
   ]
  },
  {
   "cell_type": "markdown",
   "id": "bfd5f232-2731-4c61-b952-b809c5942c5f",
   "metadata": {},
   "source": [
    "**Task:** Delete the table"
   ]
  },
  {
   "cell_type": "code",
   "execution_count": 57,
   "id": "c3292e68-c92a-431b-9189-6ec569c5f95d",
   "metadata": {},
   "outputs": [
    {
     "data": {
      "text/plain": [
       "{'TableDescription': {'TableName': 'Shows',\n",
       "  'TableStatus': 'DELETING',\n",
       "  'ProvisionedThroughput': {'NumberOfDecreasesToday': 0,\n",
       "   'ReadCapacityUnits': 10,\n",
       "   'WriteCapacityUnits': 10},\n",
       "  'TableSizeBytes': 0,\n",
       "  'ItemCount': 0,\n",
       "  'TableArn': 'arn:aws:dynamodb:us-east-1:472948420345:table/Shows',\n",
       "  'TableId': '93375464-7815-482f-847b-c1edfa877660',\n",
       "  'DeletionProtectionEnabled': False},\n",
       " 'ResponseMetadata': {'RequestId': 'MGD3H8K4F92BITS8CA9JMR6PPVVV4KQNSO5AEMVJF66Q9ASUAAJG',\n",
       "  'HTTPStatusCode': 200,\n",
       "  'HTTPHeaders': {'server': 'Server',\n",
       "   'date': 'Thu, 17 Aug 2023 12:10:04 GMT',\n",
       "   'content-type': 'application/x-amz-json-1.0',\n",
       "   'content-length': '348',\n",
       "   'connection': 'keep-alive',\n",
       "   'x-amzn-requestid': 'MGD3H8K4F92BITS8CA9JMR6PPVVV4KQNSO5AEMVJF66Q9ASUAAJG',\n",
       "   'x-amz-crc32': '1336866181'},\n",
       "  'RetryAttempts': 0}}"
      ]
     },
     "execution_count": 57,
     "metadata": {},
     "output_type": "execute_result"
    }
   ],
   "source": [
    "client.delete_table(TableName=\"Shows\")"
   ]
  }
 ],
 "metadata": {
  "kernelspec": {
   "display_name": "Python 3 (ipykernel)",
   "language": "python",
   "name": "python3"
  },
  "language_info": {
   "codemirror_mode": {
    "name": "ipython",
    "version": 3
   },
   "file_extension": ".py",
   "mimetype": "text/x-python",
   "name": "python",
   "nbconvert_exporter": "python",
   "pygments_lexer": "ipython3",
   "version": "3.10.0"
  }
 },
 "nbformat": 4,
 "nbformat_minor": 5
}

{
 "cells": [
  {
   "cell_type": "markdown",
   "id": "109fa426-34a1-451c-a5b3-fddd87b9d51f",
   "metadata": {},
   "source": [
    "![https://pieriantraining.com/](../PTCenteredPurple.png)\n"
   ]
  },
  {
   "cell_type": "markdown",
   "id": "b2aeb7c9-bbbc-449e-827d-d976ee9e2d4e",
   "metadata": {},
   "source": [
    "In this notebook, we are going to discuss the most important functions to handle [DynamoDB Tables](https://aws.amazon.com/dynamodb) using boto3"
   ]
  },
  {
   "cell_type": "markdown",
   "id": "e9c085f6-7cac-429f-9407-474064969a85",
   "metadata": {},
   "source": [
    "## Dynamo DB\n",
    "\n",
    "Amazon DynamoDB is a fully managed [NoSQL](https://aws.amazon.com/nosql/) database service. It is schema-less and offers automatic scaling, allowing you to build applications without having to implement the underlying infrastructure.\n",
    "\n",
    "The main benefit of NoSQL databases is that they are designed to handle various types of data and use cases that might not fit well with traditional relational databases.\n",
    "\n",
    "Uses cases include Large-Scale Web Applications, Big Data and Analytics, IoT Data Storage as well as Document and Content Management."
   ]
  },
  {
   "cell_type": "markdown",
   "id": "3bdbf0ec-c5a8-4fd1-a4b6-fb3b8fbfbe3a",
   "metadata": {},
   "source": [
    "## Table Creation\n",
    "The most important part of our database is of course the table!<br />\n",
    "We can create a [table](https://boto3.amazonaws.com/v1/documentation/api/latest/reference/services/dynamodb/client/create_table.html) using client.create_table(**kwargs).\n",
    "This function requires at least:\n",
    "\n",
    "1) AttributeDefinitions\n",
    "   - AttributeName\n",
    "   - AttributeType (S|N|B) (String, Number, Binary)\n",
    "2) TableName\n",
    "3) KeySchema\n",
    "   - AttributeName (Name of key attribute)\n",
    "   - KeyType (Hash | Range) (Hash: Partition Key, Range: Sort Key. Here the partition key is the primary key. The sort key sorts the data internally and becomes relevant if there are duplicate primary keys. Otherwise it is optional)\n",
    "\n",
    "If the *billing_mode* is \"provisioned\" (which it is by default) we also need to define the **ProvisionedThroughput**. This refers to the capacity that you provision for read and write operations on a table. It determines how much traffic your table can handle and helps ensure consistent performance. The pricing of this service scales with the ProvisionedThroughput\n",
    "\n",
    "\n",
    "4) ProvisionedThroughput\n",
    "   - ReadCapacityUnits (number of strongly consistent read operations per second that a table can handle. Strongly consistent reads return the most recent version of data, ensuring that you get the latest updates.)\n",
    "   - WriteCapacityUnits (number of write operations per second that a table can handle)\n",
    "  \n",
    "Remember that in NoSQL databases like DynamoDB, your data model needs to be designed around the queries you plan to perform. If your queries involve complex filtering or sorting, you might need to consider a different approach or potentially a different database solution."
   ]
  },
  {
   "cell_type": "code",
   "execution_count": 46,
   "id": "8f582719-f415-49cd-bbdc-f2b8ede281fb",
   "metadata": {},
   "outputs": [],
   "source": [
    "import boto3"
   ]
  },
  {
   "cell_type": "code",
   "execution_count": 47,
   "id": "2132c87b-dca3-481c-a4a7-61bbfa76e1ea",
   "metadata": {},
   "outputs": [],
   "source": [
    "client = boto3.client(\"dynamodb\", region_name=\"us-east-1\")"
   ]
  },
  {
   "cell_type": "markdown",
   "id": "1b21bb1b-c372-47f6-9fa1-7ce3d0048dc6",
   "metadata": {},
   "source": [
    "Let's build a movie rating database!\n",
    "\n",
    "It is important to note, that each predefined attribute has to occur inside the key_schema.\n",
    "We can add additional attributes later!"
   ]
  },
  {
   "cell_type": "code",
   "execution_count": 48,
   "id": "d560b326-517c-48b0-b817-b0f3ac2efd5b",
   "metadata": {},
   "outputs": [],
   "source": [
    "table_name = \"Movies\"\n",
    "attributes = [\n",
    "    {\n",
    "        \"AttributeName\": \"Title\",\n",
    "        \"AttributeType\" : \"S\"  # String\n",
    "    },\n",
    "\n",
    "    {\n",
    "        \"AttributeName\": \"Rating\",\n",
    "        \"AttributeType\" : \"N\"  # Number\n",
    "    },\n",
    "\n",
    "]\n",
    "\n",
    "key_schema = [\n",
    "    {\n",
    "        'AttributeName': 'Title',\n",
    "        'KeyType': 'HASH'  # Hash Key for Primary Key\n",
    "    },\n",
    "    {\n",
    "        'AttributeName': 'Rating',\n",
    "        'KeyType': 'RANGE'  # Range key for sorting\n",
    "    }\n",
    "]\n",
    "\n",
    "provisioned_throughput = {\n",
    "    'ReadCapacityUnits': 5,\n",
    "    'WriteCapacityUnits': 5\n",
    "}\n"
   ]
  },
  {
   "cell_type": "markdown",
   "id": "92309dc5-f6af-4fd1-85c9-32c0c2ed4899",
   "metadata": {},
   "source": [
    "Make sure that you have dynamo db rights within IAM"
   ]
  },
  {
   "cell_type": "code",
   "execution_count": 49,
   "id": "c928e9c2-5d03-48d5-85da-072cf61921f4",
   "metadata": {},
   "outputs": [],
   "source": [
    "response = client.create_table(\n",
    "        TableName=table_name,\n",
    "        AttributeDefinitions=attributes,\n",
    "        KeySchema=key_schema,\n",
    "        ProvisionedThroughput=provisioned_throughput\n",
    ")"
   ]
  },
  {
   "cell_type": "code",
   "execution_count": 50,
   "id": "1b70012d-b955-44a8-b2a3-5c9b14776322",
   "metadata": {},
   "outputs": [
    {
     "data": {
      "text/plain": [
       "{'TableDescription': {'AttributeDefinitions': [{'AttributeName': 'Rating',\n",
       "    'AttributeType': 'N'},\n",
       "   {'AttributeName': 'Title', 'AttributeType': 'S'}],\n",
       "  'TableName': 'Movies',\n",
       "  'KeySchema': [{'AttributeName': 'Title', 'KeyType': 'HASH'},\n",
       "   {'AttributeName': 'Rating', 'KeyType': 'RANGE'}],\n",
       "  'TableStatus': 'CREATING',\n",
       "  'CreationDateTime': datetime.datetime(2023, 8, 30, 10, 19, 40, 269000, tzinfo=tzlocal()),\n",
       "  'ProvisionedThroughput': {'NumberOfDecreasesToday': 0,\n",
       "   'ReadCapacityUnits': 5,\n",
       "   'WriteCapacityUnits': 5},\n",
       "  'TableSizeBytes': 0,\n",
       "  'ItemCount': 0,\n",
       "  'TableArn': 'arn:aws:dynamodb:us-east-1:472948420345:table/Movies',\n",
       "  'TableId': '620571b1-3b27-4cd9-b40e-22fe30eb032c',\n",
       "  'DeletionProtectionEnabled': False},\n",
       " 'ResponseMetadata': {'RequestId': '2JHSKS68PTSA0O73E9HG1318SVVV4KQNSO5AEMVJF66Q9ASUAAJG',\n",
       "  'HTTPStatusCode': 200,\n",
       "  'HTTPHeaders': {'server': 'Server',\n",
       "   'date': 'Wed, 30 Aug 2023 08:19:40 GMT',\n",
       "   'content-type': 'application/x-amz-json-1.0',\n",
       "   'content-length': '604',\n",
       "   'connection': 'keep-alive',\n",
       "   'x-amzn-requestid': '2JHSKS68PTSA0O73E9HG1318SVVV4KQNSO5AEMVJF66Q9ASUAAJG',\n",
       "   'x-amz-crc32': '2143589280'},\n",
       "  'RetryAttempts': 0}}"
      ]
     },
     "execution_count": 50,
     "metadata": {},
     "output_type": "execute_result"
    }
   ],
   "source": [
    "response"
   ]
  },
  {
   "cell_type": "markdown",
   "id": "30297d7f-a393-46b6-b56b-dce3f1bb6b69",
   "metadata": {},
   "source": [
    "You can now head over to dynamoDB within aws and check if you can find the table"
   ]
  },
  {
   "cell_type": "markdown",
   "id": "af3a525a-9dd9-4940-9dee-8795370e394a",
   "metadata": {},
   "source": [
    "## Data Insertion\n",
    "\n",
    "Let's define a sample entry:"
   ]
  },
  {
   "cell_type": "markdown",
   "id": "17cbd97a-8490-4eec-b624-726913d10b80",
   "metadata": {},
   "source": [
    "You can use [put_item](https://boto3.amazonaws.com/v1/documentation/api/latest/reference/services/dynamodb/client/put_item.html) to update the table. It accepts\n",
    "1) The TableName\n",
    "2) An item\n",
    "\n",
    "Note, that you need to pass the data type for each field as well!"
   ]
  },
  {
   "cell_type": "code",
   "execution_count": 51,
   "id": "724fdfe8-c937-44f7-9d88-a44b8de852dd",
   "metadata": {},
   "outputs": [],
   "source": [
    "entry = {\"Title\": {\"S\": \"The Matrix\"},\n",
    "         \"Director\": {\"S\": \"Lana Wachowski\"},\n",
    "         \"Year\": {\"N\": \"1999\"},\n",
    "         \"Rating\": {\"N\": \"5\"}}"
   ]
  },
  {
   "cell_type": "code",
   "execution_count": 53,
   "id": "c583dfc5-2bf6-49fb-b16c-1d1470cf0c7a",
   "metadata": {},
   "outputs": [
    {
     "data": {
      "text/plain": [
       "{'ResponseMetadata': {'RequestId': 'MJHEBN4BP7IE20F0NM4627AL2RVV4KQNSO5AEMVJF66Q9ASUAAJG',\n",
       "  'HTTPStatusCode': 200,\n",
       "  'HTTPHeaders': {'server': 'Server',\n",
       "   'date': 'Wed, 30 Aug 2023 08:20:09 GMT',\n",
       "   'content-type': 'application/x-amz-json-1.0',\n",
       "   'content-length': '2',\n",
       "   'connection': 'keep-alive',\n",
       "   'x-amzn-requestid': 'MJHEBN4BP7IE20F0NM4627AL2RVV4KQNSO5AEMVJF66Q9ASUAAJG',\n",
       "   'x-amz-crc32': '2745614147'},\n",
       "  'RetryAttempts': 0}}"
      ]
     },
     "execution_count": 53,
     "metadata": {},
     "output_type": "execute_result"
    }
   ],
   "source": [
    "client.put_item(TableName=\"Movies\", Item=entry)"
   ]
  },
  {
   "cell_type": "markdown",
   "id": "5578aa02-52e3-4612-993f-e8f4965f64b4",
   "metadata": {},
   "source": [
    "## Grab data"
   ]
  },
  {
   "cell_type": "markdown",
   "id": "457bea5c-3731-44de-9167-93bcd36caa34",
   "metadata": {},
   "source": [
    "Note that aws only updates the stored elements every 6 hours. Thus you probably won't find this item online right now!\n",
    "But we can of course query it using [client.get_item](https://boto3.amazonaws.com/v1/documentation/api/latest/reference/services/dynamodb/client/get_item.html)(TableName, Key) (or click in *Inspect Table Elements*)\n",
    "\n",
    "Note, that your key has to match the schema, thus you need to provide the title and the rating"
   ]
  },
  {
   "cell_type": "code",
   "execution_count": 54,
   "id": "ba3e80d9-cbe4-4071-a42b-7858b3da6e40",
   "metadata": {},
   "outputs": [],
   "source": [
    "item_key = {\"Title\": {\"S\": \"The Matrix\"},\n",
    "            \"Rating\": {\"N\": \"5\"}\n",
    "           }\n"
   ]
  },
  {
   "cell_type": "code",
   "execution_count": 55,
   "id": "4c7e14fc-635f-4fc8-aa6c-bfd893083ebb",
   "metadata": {},
   "outputs": [],
   "source": [
    "response = client.get_item(TableName=\"Movies\", Key=item_key)"
   ]
  },
  {
   "cell_type": "code",
   "execution_count": 56,
   "id": "e3cdfced-f4c5-4278-9d86-77d2b99aca08",
   "metadata": {},
   "outputs": [
    {
     "data": {
      "text/plain": [
       "{'Item': {'Title': {'S': 'The Matrix'},\n",
       "  'Director': {'S': 'Lana Wachowski'},\n",
       "  'Year': {'N': '1999'},\n",
       "  'Rating': {'N': '5'}},\n",
       " 'ResponseMetadata': {'RequestId': 'H4D8BGNQ9JKQKPJMC6BN3OCBF7VV4KQNSO5AEMVJF66Q9ASUAAJG',\n",
       "  'HTTPStatusCode': 200,\n",
       "  'HTTPHeaders': {'server': 'Server',\n",
       "   'date': 'Wed, 30 Aug 2023 08:20:11 GMT',\n",
       "   'content-type': 'application/x-amz-json-1.0',\n",
       "   'content-length': '110',\n",
       "   'connection': 'keep-alive',\n",
       "   'x-amzn-requestid': 'H4D8BGNQ9JKQKPJMC6BN3OCBF7VV4KQNSO5AEMVJF66Q9ASUAAJG',\n",
       "   'x-amz-crc32': '992882519'},\n",
       "  'RetryAttempts': 0}}"
      ]
     },
     "execution_count": 56,
     "metadata": {},
     "output_type": "execute_result"
    }
   ],
   "source": [
    "response"
   ]
  },
  {
   "cell_type": "code",
   "execution_count": 57,
   "id": "0e1404d3-f551-424c-bf77-152e2cc7d0e2",
   "metadata": {},
   "outputs": [
    {
     "data": {
      "text/plain": [
       "{'Title': {'S': 'The Matrix'},\n",
       " 'Director': {'S': 'Lana Wachowski'},\n",
       " 'Year': {'N': '1999'},\n",
       " 'Rating': {'N': '5'}}"
      ]
     },
     "execution_count": 57,
     "metadata": {},
     "output_type": "execute_result"
    }
   ],
   "source": [
    "response[\"Item\"]"
   ]
  },
  {
   "cell_type": "markdown",
   "id": "b7b01666-9adb-4d1f-a513-c0fa0fb308fd",
   "metadata": {},
   "source": [
    "## Updates\n",
    "\n",
    "We can alter an entry using the [update_item](https://boto3.amazonaws.com/v1/documentation/api/latest/reference/services/dynamodb/client/update_item.html) function.\n",
    "It accepts the TableName, the (primary) key of the element you want to update and the [UpdateExpression](https://docs.aws.amazon.com/amazondynamodb/latest/developerguide/Expressions.UpdateExpressions.html) ([Link to boto documentation](https://boto3.amazonaws.com/v1/documentation/api/latest/reference/services/dynamodb/client/update_item.html#:~:text=statistics%20are%20returned.-,UpdateExpression,-(string)%20%E2%80%93).\n",
    "Additionally, we need to pass the new value to **ExpressionAttributeValues**\n",
    "Let's change the directors to include both directors"
   ]
  },
  {
   "cell_type": "code",
   "execution_count": 58,
   "id": "6b21f4c0-27bb-441b-921f-7d44346ab4fe",
   "metadata": {},
   "outputs": [
    {
     "data": {
      "text/plain": [
       "{'ResponseMetadata': {'RequestId': 'HQSL7VC00J7CS50Q3NK0P8DFJBVV4KQNSO5AEMVJF66Q9ASUAAJG',\n",
       "  'HTTPStatusCode': 200,\n",
       "  'HTTPHeaders': {'server': 'Server',\n",
       "   'date': 'Wed, 30 Aug 2023 08:20:12 GMT',\n",
       "   'content-type': 'application/x-amz-json-1.0',\n",
       "   'content-length': '2',\n",
       "   'connection': 'keep-alive',\n",
       "   'x-amzn-requestid': 'HQSL7VC00J7CS50Q3NK0P8DFJBVV4KQNSO5AEMVJF66Q9ASUAAJG',\n",
       "   'x-amz-crc32': '2745614147'},\n",
       "  'RetryAttempts': 0}}"
      ]
     },
     "execution_count": 58,
     "metadata": {},
     "output_type": "execute_result"
    }
   ],
   "source": [
    "key = {\"Title\": {\"S\": \"The Matrix\"}, \"Rating\": {\"N\": \"5\"}}\n",
    "update = \"set Director = :r\"\n",
    "\n",
    "client.update_item(TableName=\"Movies\",\n",
    "                   Key=key,\n",
    "                   UpdateExpression=update,\n",
    "                   ExpressionAttributeValues={':r': {'S': 'Lana Wachowski, Lilly Wachowski'}}\n",
    ")"
   ]
  },
  {
   "cell_type": "code",
   "execution_count": 59,
   "id": "dc1058d9-b904-4247-9e26-ed2b2c1f5975",
   "metadata": {},
   "outputs": [],
   "source": [
    "response = client.get_item(TableName=\"Movies\", Key=key)"
   ]
  },
  {
   "cell_type": "code",
   "execution_count": 60,
   "id": "06833b65-0f0b-4f6d-8981-ac989de3a2f3",
   "metadata": {},
   "outputs": [
    {
     "data": {
      "text/plain": [
       "{'S': 'Lana Wachowski, Lilly Wachowski'}"
      ]
     },
     "execution_count": 60,
     "metadata": {},
     "output_type": "execute_result"
    }
   ],
   "source": [
    "response[\"Item\"][\"Director\"]"
   ]
  },
  {
   "cell_type": "markdown",
   "id": "af5d5fa8-1ebc-410f-9ba6-41274260ada4",
   "metadata": {},
   "source": [
    "Note, that you cannot update the key elements!"
   ]
  },
  {
   "cell_type": "markdown",
   "id": "4e916556-a325-4a9d-bc0c-092e6693e5aa",
   "metadata": {},
   "source": [
    "## Deleting an Item"
   ]
  },
  {
   "cell_type": "markdown",
   "id": "9a3fb678-986e-40a8-aa13-0497bb874529",
   "metadata": {},
   "source": [
    "To delete an item we can use the [delete_item](https://boto3.amazonaws.com/v1/documentation/api/latest/reference/services/dynamodb/client/delete_item.html) function.\n",
    "It accepts the TableName and the Key"
   ]
  },
  {
   "cell_type": "code",
   "execution_count": 61,
   "id": "b88f510a-5007-4fbb-ace1-bed17c2da244",
   "metadata": {},
   "outputs": [
    {
     "data": {
      "text/plain": [
       "{'ResponseMetadata': {'RequestId': 'QIHO21VTAJ0TNLUNO8PL18E8HFVV4KQNSO5AEMVJF66Q9ASUAAJG',\n",
       "  'HTTPStatusCode': 200,\n",
       "  'HTTPHeaders': {'server': 'Server',\n",
       "   'date': 'Wed, 30 Aug 2023 08:20:15 GMT',\n",
       "   'content-type': 'application/x-amz-json-1.0',\n",
       "   'content-length': '2',\n",
       "   'connection': 'keep-alive',\n",
       "   'x-amzn-requestid': 'QIHO21VTAJ0TNLUNO8PL18E8HFVV4KQNSO5AEMVJF66Q9ASUAAJG',\n",
       "   'x-amz-crc32': '2745614147'},\n",
       "  'RetryAttempts': 0}}"
      ]
     },
     "execution_count": 61,
     "metadata": {},
     "output_type": "execute_result"
    }
   ],
   "source": [
    "key = {\"Title\": {\"S\": \"The Matrix\"}, \"Rating\": {\"N\": \"5\"}}\n",
    "client.delete_item(TableName=\"Movies\", Key=key)"
   ]
  },
  {
   "cell_type": "code",
   "execution_count": 62,
   "id": "03efcf80-9f09-400e-8a64-47a68bb8204a",
   "metadata": {},
   "outputs": [],
   "source": [
    "response = client.get_item(TableName=\"Movies\", Key=key)"
   ]
  },
  {
   "cell_type": "code",
   "execution_count": 63,
   "id": "3bf89604-1fb7-4926-a631-af613df19e70",
   "metadata": {},
   "outputs": [
    {
     "data": {
      "text/plain": [
       "{'ResponseMetadata': {'RequestId': 'KCI55DNM2FVF46TR8ILP8H9THVVV4KQNSO5AEMVJF66Q9ASUAAJG',\n",
       "  'HTTPStatusCode': 200,\n",
       "  'HTTPHeaders': {'server': 'Server',\n",
       "   'date': 'Wed, 30 Aug 2023 08:20:15 GMT',\n",
       "   'content-type': 'application/x-amz-json-1.0',\n",
       "   'content-length': '2',\n",
       "   'connection': 'keep-alive',\n",
       "   'x-amzn-requestid': 'KCI55DNM2FVF46TR8ILP8H9THVVV4KQNSO5AEMVJF66Q9ASUAAJG',\n",
       "   'x-amz-crc32': '2745614147'},\n",
       "  'RetryAttempts': 0}}"
      ]
     },
     "execution_count": 63,
     "metadata": {},
     "output_type": "execute_result"
    }
   ],
   "source": [
    "response"
   ]
  },
  {
   "cell_type": "markdown",
   "id": "9a7ae350-b593-40c8-9866-26d41240e377",
   "metadata": {},
   "source": [
    "You can see that the item got deleted"
   ]
  },
  {
   "cell_type": "markdown",
   "id": "34d6a7d8-fa28-447d-9a3f-89828d59854a",
   "metadata": {},
   "source": [
    "## Querying"
   ]
  },
  {
   "cell_type": "markdown",
   "id": "8009c9ed-3403-4415-a6f9-bafd290f760b",
   "metadata": {},
   "source": [
    "Of course, one of the most important operations when handling databases is querying.\n",
    "Before diving into this topic let us, at first, fill the table with some data:\n",
    "\n",
    "To this end we are going to use batch operations:\n",
    "## Batch Operations"
   ]
  },
  {
   "cell_type": "markdown",
   "id": "968fe3f6-865b-4932-9857-3eb797da3f7b",
   "metadata": {},
   "source": [
    "## Batch Write\n",
    "To write (or update / delete) multiple elements to the table we can use [batch_write_item](https://boto3.amazonaws.com/v1/documentation/api/latest/reference/services/dynamodb/client/batch_write_item.html)\n",
    "\n",
    "It accepts RequestItems, which is either a *PutRequest* or *DeleteRequest*. \n",
    "Note, that for put requests, you have to use **Item** as dictionary key.\n",
    "For delete requests, you have to use **Key**. The individual items look similar to above"
   ]
  },
  {
   "cell_type": "code",
   "execution_count": 64,
   "id": "023861ac-d6fe-43bd-bef7-df7d3f261391",
   "metadata": {},
   "outputs": [],
   "source": [
    "movies = [\n",
    "        {\"Title\": \"The Matrix\",\n",
    "         \"Director\": \"Lana Wachowski\",\n",
    "         \"Year\": \"1999\",\n",
    "         \"Rating\": \"4.7\"},\n",
    "    \n",
    "        {\"Title\": \"The Matrix 2\",\n",
    "             \"Director\": \"Lana Wachowski\",\n",
    "             \"Year\": \"2003\",\n",
    "             \"Rating\": \"4.6\"},\n",
    "\n",
    "        {\"Title\": \"The Matrix 3\",\n",
    "             \"Director\": \"Lana Wachowski\",\n",
    "             \"Year\": \"2003\",\n",
    "             \"Rating\": \"4.5\"},\n",
    "\n",
    "        {\"Title\": \"Inception\",\n",
    "             \"Director\": \"Christopher Nolan\",\n",
    "             \"Year\": \"2010\",\n",
    "             \"Rating\": \"4.6\"},\n",
    "    \n",
    "        {\"Title\": \"Saving Private Ryan\",\n",
    "             \"Director\": \"Steven Spielberg\",\n",
    "             \"Year\": \"1999\",\n",
    "             \"Rating\": \"4.7\"},\n",
    "\n",
    "]"
   ]
  },
  {
   "cell_type": "code",
   "execution_count": 65,
   "id": "fd293574-5ac8-471c-97c6-da04d3727c06",
   "metadata": {},
   "outputs": [],
   "source": [
    "batch_request = []\n",
    "for movie in movies:\n",
    "    batch_request.append({\n",
    "        'PutRequest': {\n",
    "            'Item': {\n",
    "                'Title': {'S': movie['Title']},\n",
    "                'Rating': {'N': str(movie['Rating'])},\n",
    "                'Director': {'S': movie['Director']},\n",
    "                'Year': {'N': str(movie['Year'])}\n",
    "            }\n",
    "        }\n",
    "    })\n"
   ]
  },
  {
   "cell_type": "code",
   "execution_count": 66,
   "id": "d219fab8-6b62-46ea-b52c-4c7fd771e15f",
   "metadata": {},
   "outputs": [
    {
     "data": {
      "text/plain": [
       "[{'PutRequest': {'Item': {'Title': {'S': 'The Matrix'},\n",
       "    'Rating': {'N': '4.7'},\n",
       "    'Director': {'S': 'Lana Wachowski'},\n",
       "    'Year': {'N': '1999'}}}},\n",
       " {'PutRequest': {'Item': {'Title': {'S': 'The Matrix 2'},\n",
       "    'Rating': {'N': '4.6'},\n",
       "    'Director': {'S': 'Lana Wachowski'},\n",
       "    'Year': {'N': '2003'}}}},\n",
       " {'PutRequest': {'Item': {'Title': {'S': 'The Matrix 3'},\n",
       "    'Rating': {'N': '4.5'},\n",
       "    'Director': {'S': 'Lana Wachowski'},\n",
       "    'Year': {'N': '2003'}}}},\n",
       " {'PutRequest': {'Item': {'Title': {'S': 'Inception'},\n",
       "    'Rating': {'N': '4.6'},\n",
       "    'Director': {'S': 'Christopher Nolan'},\n",
       "    'Year': {'N': '2010'}}}},\n",
       " {'PutRequest': {'Item': {'Title': {'S': 'Saving Private Ryan'},\n",
       "    'Rating': {'N': '4.7'},\n",
       "    'Director': {'S': 'Steven Spielberg'},\n",
       "    'Year': {'N': '1999'}}}}]"
      ]
     },
     "execution_count": 66,
     "metadata": {},
     "output_type": "execute_result"
    }
   ],
   "source": [
    "batch_request"
   ]
  },
  {
   "cell_type": "code",
   "execution_count": 67,
   "id": "86e97211-1952-4b93-90c1-017c15ff6ca7",
   "metadata": {},
   "outputs": [],
   "source": [
    "response = client.batch_write_item(\n",
    "    RequestItems={\n",
    "        \"Movies\": batch_request  # You can also update multiple tables at once\n",
    "        #\"Table2\": batch_request2\n",
    "    }\n",
    ")\n"
   ]
  },
  {
   "cell_type": "code",
   "execution_count": null,
   "id": "d1668dfb-f7f0-4d62-92c8-4678152b2b9f",
   "metadata": {},
   "outputs": [],
   "source": [
    "response"
   ]
  },
  {
   "cell_type": "markdown",
   "id": "a7cf682e-2516-4b3c-9205-9da3c27f196e",
   "metadata": {},
   "source": [
    "## Batch Get\n",
    "We can use the [batch_get_item](https://boto3.amazonaws.com/v1/documentation/api/latest/reference/services/dynamodb/client/batch_get_item.html) function to grab items based on their primary keys.\n",
    "Its syntax is similar to above. The only difference is, that you pass a list of keys to the **Keys** key in your batch_request dictionary"
   ]
  },
  {
   "cell_type": "code",
   "execution_count": null,
   "id": "eecd7507-5f54-4cad-a9fc-be4062c11d43",
   "metadata": {},
   "outputs": [],
   "source": [
    "batch_request_2 = {\"Keys\": []}\n",
    "for movie in movies:\n",
    "    batch_request_2[\"Keys\"].append({\n",
    "            'Title': {'S': movie['Title']},\n",
    "            'Rating': {'N': str(movie['Rating'])},\n",
    "        }\n",
    "    )\n"
   ]
  },
  {
   "cell_type": "code",
   "execution_count": null,
   "id": "89b01796-3b26-4206-abb0-0189344f4774",
   "metadata": {},
   "outputs": [],
   "source": [
    "batch_request_2"
   ]
  },
  {
   "cell_type": "code",
   "execution_count": null,
   "id": "be5ee7e4-1e33-4a8a-b359-cdaa7c31b786",
   "metadata": {},
   "outputs": [],
   "source": [
    "client.batch_get_item(\n",
    "    RequestItems={\n",
    "        \"Movies\": batch_request_2\n",
    "    }\n",
    ")"
   ]
  },
  {
   "cell_type": "markdown",
   "id": "38d55371-d718-442a-a4a8-f2722f6468be",
   "metadata": {},
   "source": [
    "## Scanning\n",
    "To obtain all elements from the database we can use the [scan](https://boto3.amazonaws.com/v1/documentation/api/latest/reference/services/dynamodb/client/scan.html) function to which you simply pass the TableName.\n",
    "\n",
    "Note that the scan function can only return 1MB of data thus you might have to iterate (paginate) through the database"
   ]
  },
  {
   "cell_type": "code",
   "execution_count": null,
   "id": "aadb6521-907a-4f08-b661-8357ddda5805",
   "metadata": {},
   "outputs": [],
   "source": [
    "items = []\n",
    "response = client.scan(TableName=\"Movies\")\n",
    "items.extend(response[\"Items\"])\n",
    "\n",
    "## Code for paginating through results\n",
    "while \"LastEvaluatedKey\" in response.keys():\n",
    "    response = client.scan(TableName=\"Movies\", ExclusiveStartKey=response[\"LastEvaluatedKey\"])\n",
    "    items.extend(response[\"Items\"])\n"
   ]
  },
  {
   "cell_type": "code",
   "execution_count": null,
   "id": "1e112563-22a3-4347-8037-ead3f0f50547",
   "metadata": {},
   "outputs": [],
   "source": [
    "items"
   ]
  },
  {
   "cell_type": "markdown",
   "id": "b3aaca4c-33c2-4991-967a-025d14268b99",
   "metadata": {},
   "source": [
    "You can also filter these results using [FilterExpression](https://docs.aws.amazon.com/amazondynamodb/latest/developerguide/Query.html#Query.FilterExpression)\n",
    "\n",
    "Similar to above, when updating elements, we need to use **ExpressionAttributeValues**<br />\n",
    "Let's filter all movies with a rating of 4.7 or higher\n",
    "\n",
    "You can find all possible filters [here](https://docs.aws.amazon.com/amazondynamodb/latest/developerguide/Query.html#Query.KeyConditionExpressions)\n",
    "\n",
    "| Expression             | Description                                                                                          |\n",
    "|------------------------|------------------------------------------------------------------------------------------------------|\n",
    "| `a = b`                | true if the attribute `a` is equal to the value `b`                                                  |\n",
    "| `a < b`                | true if `a` is less than `b`                                                                         |\n",
    "| `a <= b`               | true if `a` is less than or equal to `b`                                                             |\n",
    "| `a > b`                | true if `a` is greater than `b`                                                                      |\n",
    "| `a >= b`               | true if `a` is greater than or equal to `b`                                                          |\n",
    "| `a BETWEEN b AND c`    | true if `a` is greater than or equal to `b`, and less than or equal to `c`                           |\n",
    "| `begins_with (a, substr)` | true if the value of attribute `a` begins with a particular substring                             |\n"
   ]
  },
  {
   "cell_type": "code",
   "execution_count": null,
   "id": "ad9ac6bb-3b94-47e9-b6d3-5da987412915",
   "metadata": {},
   "outputs": [],
   "source": [
    "client.scan(TableName=\"Movies\",\n",
    "            FilterExpression=\"Rating >= :num\",  # Rating has to be larger than num\n",
    "            ExpressionAttributeValues={\":num\":{\"N\":\"4.7\"}}  # set num to 4.7\n",
    "            )"
   ]
  },
  {
   "cell_type": "code",
   "execution_count": null,
   "id": "243d06f7-ca54-42bf-a8d1-cde409dfba28",
   "metadata": {},
   "outputs": [],
   "source": [
    "client.scan(TableName=\"Movies\",\n",
    "            FilterExpression=\"begins_with(Title, :title)\",  # Filter all titles that begin with title\n",
    "            ExpressionAttributeValues={\":title\":{\"S\":\"The\"}}  # set title to \"The\"\n",
    "            )"
   ]
  },
  {
   "cell_type": "markdown",
   "id": "15def459-b5d8-45f7-a16e-0310b4f54c56",
   "metadata": {},
   "source": [
    "## Querying\n",
    "Now it's time to query the database. Note that in dynamo db you always need to pass the primary (partition key) when querying. When you want to use other Keys, you need to use scan.\n",
    "\n",
    "You should always opt to use the query function as it runs much faster than scan. [More Information](https://docs.aws.amazon.com/amazondynamodb/latest/developerguide/bp-query-scan.html)"
   ]
  },
  {
   "cell_type": "code",
   "execution_count": null,
   "id": "23aee5df-961c-4fbb-98d9-312893f9f3e9",
   "metadata": {},
   "outputs": [],
   "source": [
    "client.query(TableName=\"Movies\",\n",
    "             KeyConditionExpression='Title = :title',\n",
    "            ExpressionAttributeValues={':title': {'S': \"The Matrix\"}}\n",
    ")"
   ]
  },
  {
   "cell_type": "markdown",
   "id": "624072b0-dd13-4e16-b7bd-ba7604f89eea",
   "metadata": {},
   "source": [
    "We can now create any queries we want using the partition and sorting key. If you try using another attribute (e.g. year) boto3 will throw an exception as these cannot be used within the KeyConditionExpression."
   ]
  },
  {
   "cell_type": "markdown",
   "id": "4071992a-9332-40c4-9329-18d52d123278",
   "metadata": {},
   "source": [
    "## Using Resources\n",
    "The querying and scanning operations can be performed in a simpler way using **Ressources**. <br />\n",
    "At first we import **Key** and **Attr** from boto3.dynamodb.conditions\n",
    "\n",
    "The following table visualizes all possible comparison / filtering operations:\n",
    "| Method       | Description                                             |\n",
    "|--------------|---------------------------------------------------------|\n",
    "| `begins_with`| Checks for a prefix.                                     |\n",
    "| `between`    | Checks for a value between two specified values.         |\n",
    "| `contains`   | Checks for a substring or an element in a list.          |\n",
    "| `eq`         | Checks for equality.                                     |\n",
    "| `exists`     | Checks if the attribute exists.                          |\n",
    "| `gt`         | Checks if the value is greater than the specified value. |\n",
    "| `gte`        | Checks if the value is greater than or equal to.         |\n",
    "| `is_in`      | Checks if the value is in a list of values.              |\n",
    "| `lt`         | Checks if the value is less than the specified value.    |\n",
    "| `lte`        | Checks if the value is less than or equal to.            |\n",
    "| `ne`         | Checks for inequality.                                   |\n",
    "| `not_exists` | Checks if the attribute does not exist.                  |\n",
    "| `size`       | Returns the size of the attribute.                       |\n"
   ]
  },
  {
   "cell_type": "code",
   "execution_count": 43,
   "id": "9e6f51cb-02fe-4fb7-be16-3b3db2f85446",
   "metadata": {},
   "outputs": [],
   "source": [
    "from boto3.dynamodb.conditions import Key, Attr\n"
   ]
  },
  {
   "cell_type": "code",
   "execution_count": 44,
   "id": "f5ab2787-3e83-4eb8-a88f-42008d74ef06",
   "metadata": {},
   "outputs": [],
   "source": [
    "dynamodb = boto3.resource('dynamodb', region_name=\"us-east-1\")\n",
    "table = dynamodb.Table('Movies')\n"
   ]
  },
  {
   "cell_type": "code",
   "execution_count": null,
   "id": "b1ece6fa-c5aa-45fd-9d3a-3723ac66fbd3",
   "metadata": {},
   "outputs": [],
   "source": [
    "dir(Attr)  # List of all attributes including the comparison operators"
   ]
  },
  {
   "cell_type": "code",
   "execution_count": null,
   "id": "9524d818-408e-4042-af67-3e362bb986ea",
   "metadata": {},
   "outputs": [],
   "source": [
    "table.scan(FilterExpression=Attr('Year').gte(2003)) # greater or equal than 2001"
   ]
  },
  {
   "cell_type": "code",
   "execution_count": null,
   "id": "0b049013-d4e4-492d-9e80-3e58a5ab85b2",
   "metadata": {},
   "outputs": [],
   "source": [
    "table.scan(FilterExpression=Attr('Year').gte(2003) & Attr(\"Rating\").gt(4.5)) # greater or equal than 2001"
   ]
  },
  {
   "cell_type": "markdown",
   "id": "5f5a9b10-b9d1-41e8-bee6-ab7ae7f00b13",
   "metadata": {},
   "source": [
    "Oh! Per default, float types are not supported. However, we can convert them to decimals first!"
   ]
  },
  {
   "cell_type": "code",
   "execution_count": null,
   "id": "1cfc331d-63cd-43f4-b0f3-b6f768f62833",
   "metadata": {},
   "outputs": [],
   "source": [
    "from decimal import Decimal\n",
    "table.scan(FilterExpression=Attr('Year').gte(2003) & Attr(\"Rating\").gt(Decimal(4.5))) # greater or equal than 2001"
   ]
  },
  {
   "cell_type": "markdown",
   "id": "4712c865-3dfa-499b-8e69-5af7df70e324",
   "metadata": {},
   "source": [
    "## Helper functions\n",
    "There are some very helpful functions to obtain information about your database!"
   ]
  },
  {
   "cell_type": "code",
   "execution_count": null,
   "id": "697a645a-5792-4f8c-a18d-5c14472c8880",
   "metadata": {},
   "outputs": [],
   "source": [
    "table.key_schema"
   ]
  },
  {
   "cell_type": "code",
   "execution_count": null,
   "id": "bc1ba410-14ac-4321-ad8b-4920fc83c731",
   "metadata": {},
   "outputs": [],
   "source": [
    "client.describe_table(TableName=\"Movies\")"
   ]
  },
  {
   "cell_type": "code",
   "execution_count": null,
   "id": "002c8060-fd63-44d9-b2cd-abe2070e79ad",
   "metadata": {},
   "outputs": [],
   "source": []
  },
  {
   "cell_type": "markdown",
   "id": "aa844337-eff9-4f90-b464-41dbf51574ea",
   "metadata": {},
   "source": [
    "## Table Deletion\n",
    "To delete a table you can simply run table.delete() or client.delete_table(TableName)"
   ]
  },
  {
   "cell_type": "code",
   "execution_count": 45,
   "id": "a47fccfe-e209-4aea-9948-ba33cfc2f68c",
   "metadata": {
    "scrolled": true
   },
   "outputs": [
    {
     "data": {
      "text/plain": [
       "{'TableDescription': {'TableName': 'Movies',\n",
       "  'TableStatus': 'DELETING',\n",
       "  'ProvisionedThroughput': {'NumberOfDecreasesToday': 0,\n",
       "   'ReadCapacityUnits': 5,\n",
       "   'WriteCapacityUnits': 5},\n",
       "  'TableSizeBytes': 0,\n",
       "  'ItemCount': 0,\n",
       "  'TableArn': 'arn:aws:dynamodb:us-east-1:472948420345:table/Movies',\n",
       "  'TableId': '0a67e98d-6723-4517-b3a1-4d096202acef',\n",
       "  'DeletionProtectionEnabled': False},\n",
       " 'ResponseMetadata': {'RequestId': 'JONLVU259SAFATA69H4699SUS7VV4KQNSO5AEMVJF66Q9ASUAAJG',\n",
       "  'HTTPStatusCode': 200,\n",
       "  'HTTPHeaders': {'server': 'Server',\n",
       "   'date': 'Wed, 30 Aug 2023 08:19:33 GMT',\n",
       "   'content-type': 'application/x-amz-json-1.0',\n",
       "   'content-length': '348',\n",
       "   'connection': 'keep-alive',\n",
       "   'x-amzn-requestid': 'JONLVU259SAFATA69H4699SUS7VV4KQNSO5AEMVJF66Q9ASUAAJG',\n",
       "   'x-amz-crc32': '1285755675'},\n",
       "  'RetryAttempts': 0}}"
      ]
     },
     "execution_count": 45,
     "metadata": {},
     "output_type": "execute_result"
    }
   ],
   "source": [
    "table.delete()"
   ]
  },
  {
   "cell_type": "markdown",
   "id": "dae3f03d-57f1-4a4c-81e5-f6c0f5640466",
   "metadata": {},
   "source": [
    "## Global Secondary Index"
   ]
  },
  {
   "cell_type": "markdown",
   "id": "d294f3d2-08d0-48eb-b610-210983190cfd",
   "metadata": {},
   "source": [
    "To be able to leverage additional data, we can use a [Global Secondary Index](https://docs.aws.amazon.com/amazondynamodb/latest/developerguide/GSI.html#GSI.scenario) ([Doc](https://boto3.amazonaws.com/v1/documentation/api/latest/reference/services/dynamodb/client/create_table.html#:~:text=(string)%20%E2%80%93-,GlobalSecondaryIndexes,-(list)%20%E2%80%93)).\n",
    "You can either update a database or create a new one ([Link])(https://docs.aws.amazon.com/amazondynamodb/latest/developerguide/GSI.OnlineOps.html#GSI.OnlineOps.Creating)\n",
    "\n",
    "Let's add the secondary index to this table:<br />\n",
    "\n",
    "1) Add the attribute to the attributes list we initially defined\n",
    "2) Define the key schema for the Global Secondary Index\n",
    "3) Define the provisioned throughput for the GSI\n",
    "4) Define the Projection which describes the attributes that are copied from the table to the index. Usually you want to copy all of the table's attributes.\n",
    "5) Use client.update_table(TableName, AttributeDefinitions, GlobalSecondaryIndexUpdates) to add the secondary index\n"
   ]
  },
  {
   "cell_type": "code",
   "execution_count": 68,
   "id": "2aead8de-9ef7-4727-a027-17c4493e9b2b",
   "metadata": {},
   "outputs": [],
   "source": [
    "attributes.append({\"AttributeName\": \"Director\", \"AttributeType\" : \"S\"})"
   ]
  },
  {
   "cell_type": "code",
   "execution_count": 69,
   "id": "4bb59104-9d03-4549-b8f4-e2cbd5e2bbf1",
   "metadata": {},
   "outputs": [
    {
     "data": {
      "text/plain": [
       "[{'AttributeName': 'Title', 'AttributeType': 'S'},\n",
       " {'AttributeName': 'Rating', 'AttributeType': 'N'},\n",
       " {'AttributeName': 'Director', 'AttributeType': 'S'}]"
      ]
     },
     "execution_count": 69,
     "metadata": {},
     "output_type": "execute_result"
    }
   ],
   "source": [
    "attributes"
   ]
  },
  {
   "cell_type": "code",
   "execution_count": 70,
   "id": "3870efe4-bbb5-4bd0-a819-3af3e0c08658",
   "metadata": {},
   "outputs": [
    {
     "data": {
      "text/plain": [
       "{'TableDescription': {'AttributeDefinitions': [{'AttributeName': 'Director',\n",
       "    'AttributeType': 'S'},\n",
       "   {'AttributeName': 'Rating', 'AttributeType': 'N'},\n",
       "   {'AttributeName': 'Title', 'AttributeType': 'S'}],\n",
       "  'TableName': 'Movies',\n",
       "  'KeySchema': [{'AttributeName': 'Title', 'KeyType': 'HASH'},\n",
       "   {'AttributeName': 'Rating', 'KeyType': 'RANGE'}],\n",
       "  'TableStatus': 'UPDATING',\n",
       "  'CreationDateTime': datetime.datetime(2023, 8, 30, 10, 19, 40, 269000, tzinfo=tzlocal()),\n",
       "  'ProvisionedThroughput': {'NumberOfDecreasesToday': 0,\n",
       "   'ReadCapacityUnits': 5,\n",
       "   'WriteCapacityUnits': 5},\n",
       "  'TableSizeBytes': 0,\n",
       "  'ItemCount': 0,\n",
       "  'TableArn': 'arn:aws:dynamodb:us-east-1:472948420345:table/Movies',\n",
       "  'TableId': '620571b1-3b27-4cd9-b40e-22fe30eb032c',\n",
       "  'GlobalSecondaryIndexes': [{'IndexName': 'idx1',\n",
       "    'KeySchema': [{'AttributeName': 'Director', 'KeyType': 'HASH'}],\n",
       "    'Projection': {'ProjectionType': 'ALL'},\n",
       "    'IndexStatus': 'CREATING',\n",
       "    'Backfilling': False,\n",
       "    'ProvisionedThroughput': {'NumberOfDecreasesToday': 0,\n",
       "     'ReadCapacityUnits': 5,\n",
       "     'WriteCapacityUnits': 5},\n",
       "    'IndexSizeBytes': 0,\n",
       "    'ItemCount': 0,\n",
       "    'IndexArn': 'arn:aws:dynamodb:us-east-1:472948420345:table/Movies/index/idx1'}],\n",
       "  'DeletionProtectionEnabled': False},\n",
       " 'ResponseMetadata': {'RequestId': 'O2894NQ86NTGDE325I9TB6FKE7VV4KQNSO5AEMVJF66Q9ASUAAJG',\n",
       "  'HTTPStatusCode': 200,\n",
       "  'HTTPHeaders': {'server': 'Server',\n",
       "   'date': 'Wed, 30 Aug 2023 08:21:13 GMT',\n",
       "   'content-type': 'application/x-amz-json-1.0',\n",
       "   'content-length': '1052',\n",
       "   'connection': 'keep-alive',\n",
       "   'x-amzn-requestid': 'O2894NQ86NTGDE325I9TB6FKE7VV4KQNSO5AEMVJF66Q9ASUAAJG',\n",
       "   'x-amz-crc32': '1529976780'},\n",
       "  'RetryAttempts': 0}}"
      ]
     },
     "execution_count": 70,
     "metadata": {},
     "output_type": "execute_result"
    }
   ],
   "source": [
    "gsi_key_schema = [\n",
    "    {\n",
    "        'AttributeName': 'Director',\n",
    "        'KeyType': 'HASH'\n",
    "    }\n",
    "]\n",
    "\n",
    "gsi_provisioned_throughput = {\n",
    "    'ReadCapacityUnits': 5,\n",
    "    'WriteCapacityUnits': 5\n",
    "}\n",
    "\n",
    "response = client.update_table(\n",
    "    TableName=\"Movies\",\n",
    "    AttributeDefinitions=attributes,\n",
    "    GlobalSecondaryIndexUpdates=[\n",
    "        {\n",
    "            'Create': {  # Create secondary Index\n",
    "                'IndexName': \"idx1\",  # The name of the global secondary index. Must be unique only for this table.\n",
    "                'KeySchema': gsi_key_schema,\n",
    "                'Projection': {\n",
    "                    'ProjectionType': 'ALL'  # Project all information\n",
    "                },\n",
    "                'ProvisionedThroughput': gsi_provisioned_throughput\n",
    "            }\n",
    "        }\n",
    "    ]\n",
    ")\n",
    "\n",
    "response"
   ]
  },
  {
   "cell_type": "markdown",
   "id": "f6794a3f-37ee-4a10-813e-434fd0119b1d",
   "metadata": {},
   "source": [
    "Note that this might take some time in the background. While it is running, you will receive the following exception:\n",
    "\n",
    "ClientError: An error occurred (ValidationException) when calling the Query operation: Cannot read from backfilling global secondary index: idx1"
   ]
  },
  {
   "cell_type": "markdown",
   "id": "6120b067-cc37-4109-98c5-9e8b65334e34",
   "metadata": {},
   "source": [
    "You can now answer the question: *What movies were directed by Lana Wachowski?* without using the scan operation"
   ]
  },
  {
   "cell_type": "code",
   "execution_count": 79,
   "id": "aa092425-d21e-4748-b80e-155153326f4e",
   "metadata": {},
   "outputs": [
    {
     "data": {
      "text/plain": [
       "{'Items': [{'Title': {'S': 'The Matrix 2'},\n",
       "   'Director': {'S': 'Lana Wachowski'},\n",
       "   'Year': {'N': '2003'},\n",
       "   'Rating': {'N': '4.6'}},\n",
       "  {'Title': {'S': 'The Matrix 3'},\n",
       "   'Director': {'S': 'Lana Wachowski'},\n",
       "   'Year': {'N': '2003'},\n",
       "   'Rating': {'N': '4.5'}},\n",
       "  {'Title': {'S': 'The Matrix'},\n",
       "   'Director': {'S': 'Lana Wachowski'},\n",
       "   'Year': {'N': '1999'},\n",
       "   'Rating': {'N': '4.7'}}],\n",
       " 'Count': 3,\n",
       " 'ScannedCount': 3,\n",
       " 'ResponseMetadata': {'RequestId': 'UGQLPU4EBS5BKHUTT51MO9UPUVVV4KQNSO5AEMVJF66Q9ASUAAJG',\n",
       "  'HTTPStatusCode': 200,\n",
       "  'HTTPHeaders': {'server': 'Server',\n",
       "   'date': 'Wed, 30 Aug 2023 08:26:53 GMT',\n",
       "   'content-type': 'application/x-amz-json-1.0',\n",
       "   'content-length': '354',\n",
       "   'connection': 'keep-alive',\n",
       "   'x-amzn-requestid': 'UGQLPU4EBS5BKHUTT51MO9UPUVVV4KQNSO5AEMVJF66Q9ASUAAJG',\n",
       "   'x-amz-crc32': '750746483'},\n",
       "  'RetryAttempts': 0}}"
      ]
     },
     "execution_count": 79,
     "metadata": {},
     "output_type": "execute_result"
    }
   ],
   "source": [
    "client.query(TableName=\"Movies\",\n",
    "             KeyConditionExpression='Director = :d',\n",
    "             IndexName='idx1',\n",
    "            ExpressionAttributeValues={':d': {'S': \"Lana Wachowski\"}}\n",
    ")"
   ]
  },
  {
   "cell_type": "markdown",
   "id": "eb08cd9b-37c9-4764-9226-ee75dd0a7ae6",
   "metadata": {},
   "source": [
    "We just saw, that using a secondary index, we can query for more than the primary index!"
   ]
  },
  {
   "cell_type": "markdown",
   "id": "b66a9a6b-81ac-4f51-ad78-36d3f87f218e",
   "metadata": {},
   "source": [
    "### Create new table with secondary index"
   ]
  },
  {
   "cell_type": "markdown",
   "id": "71b88a1e-d420-44ea-aa75-be8c689ca0ed",
   "metadata": {},
   "source": [
    "To learn how to directly create a table with a secondary index, let's quickly delete our Movies database"
   ]
  },
  {
   "cell_type": "code",
   "execution_count": 80,
   "id": "a1f39594-968e-4d65-b79f-53d3a1eb55f1",
   "metadata": {},
   "outputs": [
    {
     "data": {
      "text/plain": [
       "{'TableDescription': {'TableName': 'Movies',\n",
       "  'TableStatus': 'DELETING',\n",
       "  'ProvisionedThroughput': {'NumberOfDecreasesToday': 0,\n",
       "   'ReadCapacityUnits': 5,\n",
       "   'WriteCapacityUnits': 5},\n",
       "  'TableSizeBytes': 0,\n",
       "  'ItemCount': 0,\n",
       "  'TableArn': 'arn:aws:dynamodb:us-east-1:472948420345:table/Movies',\n",
       "  'TableId': '620571b1-3b27-4cd9-b40e-22fe30eb032c',\n",
       "  'DeletionProtectionEnabled': False},\n",
       " 'ResponseMetadata': {'RequestId': '0EKEH7A20MLJF8I6SEI8892ODBVV4KQNSO5AEMVJF66Q9ASUAAJG',\n",
       "  'HTTPStatusCode': 200,\n",
       "  'HTTPHeaders': {'server': 'Server',\n",
       "   'date': 'Wed, 30 Aug 2023 08:27:14 GMT',\n",
       "   'content-type': 'application/x-amz-json-1.0',\n",
       "   'content-length': '348',\n",
       "   'connection': 'keep-alive',\n",
       "   'x-amzn-requestid': '0EKEH7A20MLJF8I6SEI8892ODBVV4KQNSO5AEMVJF66Q9ASUAAJG',\n",
       "   'x-amz-crc32': '2901361696'},\n",
       "  'RetryAttempts': 0}}"
      ]
     },
     "execution_count": 80,
     "metadata": {},
     "output_type": "execute_result"
    }
   ],
   "source": [
    "client.delete_table(TableName=\"Movies\")"
   ]
  },
  {
   "cell_type": "markdown",
   "id": "63344966-8ddb-41de-a0ac-7daeca3fbe2b",
   "metadata": {},
   "source": [
    "We can start using the same attributes as before and add the Director to the attributes.\n"
   ]
  },
  {
   "cell_type": "code",
   "execution_count": 81,
   "id": "bdc91f59-1a96-4c2d-9bdb-f328807be877",
   "metadata": {},
   "outputs": [],
   "source": [
    "table_name = \"Movies\"\n",
    "attributes = [\n",
    "    {\n",
    "        \"AttributeName\": \"Title\",\n",
    "        \"AttributeType\" : \"S\"  # String\n",
    "    },\n",
    "\n",
    "    {\n",
    "        \"AttributeName\": \"Rating\",\n",
    "        \"AttributeType\" : \"N\"  # Number\n",
    "    },\n",
    "    \n",
    "    {\n",
    "        \"AttributeName\": \"Director\",  # Note that this is not part of the key schema\n",
    "        \"AttributeType\" : \"S\"  # String\n",
    "    },\n",
    "\n",
    "\n",
    "]\n",
    "\n",
    "key_schema = [\n",
    "    {\n",
    "        'AttributeName': 'Title',\n",
    "        'KeyType': 'HASH'  # Hash Key for Primary Key\n",
    "    },\n",
    "    {\n",
    "        'AttributeName': 'Rating',\n",
    "        'KeyType': 'RANGE'  # Range key for sorting\n",
    "    }\n",
    "]\n",
    "\n",
    "provisioned_throughput = {\n",
    "    'ReadCapacityUnits': 5,\n",
    "    'WriteCapacityUnits': 5\n",
    "}\n"
   ]
  },
  {
   "cell_type": "markdown",
   "id": "926eda19-26b7-49e0-8053-31b5d71c8fc9",
   "metadata": {},
   "source": [
    "When creating the table, you need to pass the **GlobalSecondaryIndexes** argument, to which you need to pass the *IndexName*, *KeySchema*, the *Projection* and the *ProvisionedThroughput*.\n",
    "*KeySchema* and *ProvisionedThroughput* are identical to above. \n",
    "\n",
    "Let's create the table with the secondary index for the Director "
   ]
  },
  {
   "cell_type": "code",
   "execution_count": 82,
   "id": "959bcb19-7228-4aa7-9d2a-cb2201bd8090",
   "metadata": {},
   "outputs": [],
   "source": [
    "response = client.create_table(\n",
    "        TableName=table_name,\n",
    "        AttributeDefinitions=attributes,\n",
    "        KeySchema=key_schema,\n",
    "        ProvisionedThroughput=provisioned_throughput,\n",
    "        GlobalSecondaryIndexes=[\n",
    "        {\n",
    "            'IndexName': 'idx1',  # The name of the global secondary index. Must be unique only for this table.\n",
    "            'KeySchema': [\n",
    "               {\n",
    "                  'AttributeName': 'Director',\n",
    "                  'KeyType': 'HASH'\n",
    "               }\n",
    "             ],\n",
    "             'Projection': {\n",
    "               'ProjectionType': 'ALL'  # Project all information\n",
    "             },\n",
    "             'ProvisionedThroughput': {\n",
    "                  'ReadCapacityUnits': 10,\n",
    "                  'WriteCapacityUnits': 10\n",
    "             }\n",
    "        }\n",
    "    ],\n",
    "\n",
    ")"
   ]
  },
  {
   "cell_type": "markdown",
   "id": "d52d1671-6d9d-404c-a368-f7d2653a4f50",
   "metadata": {},
   "source": [
    "Let's add the data from above once more"
   ]
  },
  {
   "cell_type": "code",
   "execution_count": 87,
   "id": "3d15b431-92a3-47d9-8b5d-c11331422102",
   "metadata": {},
   "outputs": [],
   "source": [
    "movies = [\n",
    "        {\"Title\": \"The Matrix\",\n",
    "         \"Director\": \"Lana Wachowski\",\n",
    "         \"Year\": \"1999\",\n",
    "         \"Rating\": \"4.7\"},\n",
    "    \n",
    "        {\"Title\": \"The Matrix 2\",\n",
    "             \"Director\": \"Lana Wachowski\",\n",
    "             \"Year\": \"2003\",\n",
    "             \"Rating\": \"4.6\"},\n",
    "\n",
    "        {\"Title\": \"The Matrix 3\",\n",
    "             \"Director\": \"Lana Wachowski\",\n",
    "             \"Year\": \"2003\",\n",
    "             \"Rating\": \"4.5\"},\n",
    "\n",
    "        {\"Title\": \"Inception\",\n",
    "             \"Director\": \"Christopher Nolan\",\n",
    "             \"Year\": \"2010\",\n",
    "             \"Rating\": \"4.6\"},\n",
    "    \n",
    "        {\"Title\": \"Saving Private Ryan\",\n",
    "             \"Director\": \"Steven Spielberg\",\n",
    "             \"Year\": \"1999\",\n",
    "             \"Rating\": \"4.7\"},\n",
    "\n",
    "]\n",
    "\n",
    "batch_request = []\n",
    "for movie in movies:\n",
    "    batch_request.append({\n",
    "        'PutRequest': {\n",
    "            'Item': {\n",
    "                'Title': {'S': movie['Title']},\n",
    "                'Rating': {'N': str(movie['Rating'])},\n",
    "                'Director': {'S': movie['Director']},\n",
    "                'Year': {'N': str(movie['Year'])}\n",
    "            }\n",
    "        }\n",
    "    })\n",
    "\n",
    "\n",
    "response = client.batch_write_item(\n",
    "    RequestItems={\n",
    "        \"Movies\": batch_request\n",
    "    }\n",
    ")\n"
   ]
  },
  {
   "cell_type": "code",
   "execution_count": 89,
   "id": "db694b73-cb67-4dfe-8a5c-78739c5e8708",
   "metadata": {},
   "outputs": [
    {
     "data": {
      "text/plain": [
       "{'Items': [{'Title': {'S': 'The Matrix 2'},\n",
       "   'Director': {'S': 'Lana Wachowski'},\n",
       "   'Year': {'N': '2003'},\n",
       "   'Rating': {'N': '4.6'}},\n",
       "  {'Title': {'S': 'The Matrix 3'},\n",
       "   'Director': {'S': 'Lana Wachowski'},\n",
       "   'Year': {'N': '2003'},\n",
       "   'Rating': {'N': '4.5'}},\n",
       "  {'Title': {'S': 'The Matrix'},\n",
       "   'Director': {'S': 'Lana Wachowski'},\n",
       "   'Year': {'N': '1999'},\n",
       "   'Rating': {'N': '4.7'}}],\n",
       " 'Count': 3,\n",
       " 'ScannedCount': 3,\n",
       " 'ResponseMetadata': {'RequestId': 'RB3U2OTUF6NSULETJQHT43SK6VVV4KQNSO5AEMVJF66Q9ASUAAJG',\n",
       "  'HTTPStatusCode': 200,\n",
       "  'HTTPHeaders': {'server': 'Server',\n",
       "   'date': 'Wed, 30 Aug 2023 08:28:09 GMT',\n",
       "   'content-type': 'application/x-amz-json-1.0',\n",
       "   'content-length': '354',\n",
       "   'connection': 'keep-alive',\n",
       "   'x-amzn-requestid': 'RB3U2OTUF6NSULETJQHT43SK6VVV4KQNSO5AEMVJF66Q9ASUAAJG',\n",
       "   'x-amz-crc32': '750746483'},\n",
       "  'RetryAttempts': 0}}"
      ]
     },
     "execution_count": 89,
     "metadata": {},
     "output_type": "execute_result"
    }
   ],
   "source": [
    "client.query(TableName=\"Movies\",\n",
    "             KeyConditionExpression='Director = :d',\n",
    "             IndexName='idx1',\n",
    "            ExpressionAttributeValues={':d': {'S': \"Lana Wachowski\"}}\n",
    ")"
   ]
  }
 ],
 "metadata": {
  "kernelspec": {
   "display_name": "Python 3 (ipykernel)",
   "language": "python",
   "name": "python3"
  },
  "language_info": {
   "codemirror_mode": {
    "name": "ipython",
    "version": 3
   },
   "file_extension": ".py",
   "mimetype": "text/x-python",
   "name": "python",
   "nbconvert_exporter": "python",
   "pygments_lexer": "ipython3",
   "version": "3.10.0"
  }
 },
 "nbformat": 4,
 "nbformat_minor": 5
}

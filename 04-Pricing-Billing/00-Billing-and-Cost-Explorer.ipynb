{
 "cells": [
  {
   "cell_type": "markdown",
   "id": "af9f682d-7690-4f30-a45e-199182f693e8",
   "metadata": {},
   "source": [
    "![https://pieriantraining.com/](../PTCenteredPurple.png)\n",
    "\n",
    "*Copyright: Pierian Training*"
   ]
  },
  {
   "cell_type": "markdown",
   "id": "bc7a3ecc-b7a7-49a5-b4ec-be280bd46f62",
   "metadata": {},
   "source": [
    "## Billing Information with CostExplorer"
   ]
  },
  {
   "cell_type": "code",
   "execution_count": 1,
   "id": "4a0a9b44-bcde-47b9-8a6a-d95385eb6e72",
   "metadata": {},
   "outputs": [],
   "source": [
    "import boto3\n",
    "# Note that you have to specify a region, otherwise boto3 will raise an exception\n",
    "# You can find a list of regions here: https://docs.aws.amazon.com/AmazonRDS/latest/UserGuide/Concepts.RegionsAndAvailabilityZones.html\n",
    "client = boto3.client(\"ce\", region_name=\"us-east-1\")  "
   ]
  },
  {
   "cell_type": "markdown",
   "id": "0a529955-bbc8-4252-8316-d84114223cc3",
   "metadata": {},
   "source": [
    "To use this client, you might need to add the custom inline IAM policy to your account<br />\n",
    "```\n",
    "{\n",
    "  \"Version\": \"2012-10-17\",\n",
    "  \"Statement\": [\n",
    "    {\n",
    "      \"Effect\": \"Allow\",\n",
    "      \"Action\": [\n",
    "        \"ce:*\"\n",
    "      ],\n",
    "      \"Resource\": [\n",
    "        \"*\"\n",
    "      ]\n",
    "    }\n",
    "  ]\n",
    "}\n",
    "```"
   ]
  },
  {
   "cell_type": "markdown",
   "id": "2ea8d94d",
   "metadata": {},
   "source": [
    "## Costs and Usage for Last 90 Days"
   ]
  },
  {
   "cell_type": "code",
   "execution_count": 2,
   "id": "b71211c6",
   "metadata": {},
   "outputs": [
    {
     "name": "stdout",
     "output_type": "stream",
     "text": [
      "Time Period: 2023-06-20 to 2023-07-01\n",
      "UsageQuantity: 0.1312438325 GB-Month\n",
      "UnblendedCost: 0 USD\n",
      "\n",
      "\n",
      "Time Period: 2023-07-01 to 2023-08-01\n",
      "UsageQuantity: 0.3579377242 GB-Month\n",
      "UnblendedCost: 0.0082289593 USD\n",
      "\n",
      "\n",
      "Time Period: 2023-08-01 to 2023-09-01\n",
      "UsageQuantity: 2610.7543689972 N/A\n",
      "UnblendedCost: 0.0166512027 USD\n",
      "\n",
      "\n",
      "Time Period: 2023-09-01 to 2023-09-18\n",
      "UsageQuantity: 12041.9262403519 N/A\n",
      "UnblendedCost: 0.0318667329 USD\n",
      "\n",
      "\n"
     ]
    }
   ],
   "source": [
    "import boto3\n",
    "from datetime import datetime, timedelta\n",
    "\n",
    "# Initialize the boto3 Cost Explorer client\n",
    "ce_client = boto3.client('ce')\n",
    "\n",
    "# Calculate the start and end dates for the last 3 months\n",
    "end_date = datetime.now().strftime('%Y-%m-%d') # today's date\n",
    "start_date = (datetime.now() - timedelta(days=90)).strftime('%Y-%m-%d') # 3 months ago from today\n",
    "\n",
    "# Retrieve the cost and usage data\n",
    "response = ce_client.get_cost_and_usage(\n",
    "    TimePeriod={\n",
    "        'Start': start_date,\n",
    "        'End': end_date\n",
    "    },\n",
    "    Granularity='MONTHLY', \n",
    "    Metrics=['UnblendedCost', 'UsageQuantity']\n",
    ")\n",
    "\n",
    "# Print the results\n",
    "for item in response['ResultsByTime']:\n",
    "    print(f\"Time Period: {item['TimePeriod']['Start']} to {item['TimePeriod']['End']}\")\n",
    "    for metric, value in item['Total'].items():\n",
    "        print(f\"{metric}: {value['Amount']} {value['Unit']}\")\n",
    "    print(\"\\n\")\n"
   ]
  },
  {
   "cell_type": "markdown",
   "id": "eae1e7e2",
   "metadata": {},
   "source": [
    "### Service Information"
   ]
  },
  {
   "cell_type": "code",
   "execution_count": 3,
   "id": "bbe47bbf",
   "metadata": {},
   "outputs": [
    {
     "name": "stdout",
     "output_type": "stream",
     "text": [
      "Services with costs or usage in the last 3 months:\n",
      "AWS Key Management Service\n",
      "AWS Lambda\n",
      "Amazon DynamoDB\n",
      "EC2 - Other\n",
      "Amazon Elastic Compute Cloud - Compute\n",
      "Amazon Polly\n",
      "Amazon Rekognition\n",
      "Amazon Simple Notification Service\n",
      "Amazon Simple Storage Service\n",
      "Amazon Transcribe\n",
      "Amazon Translate\n",
      "Amazon Virtual Private Cloud\n",
      "AmazonCloudWatch\n",
      "Tax\n"
     ]
    }
   ],
   "source": [
    "import boto3\n",
    "from datetime import datetime, timedelta\n",
    "\n",
    "# Initialize the boto3 Cost Explorer client\n",
    "ce_client = boto3.client('ce')\n",
    "\n",
    "# Calculate the start and end dates for the last 3 months\n",
    "end_date = datetime.now().strftime('%Y-%m-%d') # today's date\n",
    "start_date = (datetime.now() - timedelta(days=90)).strftime('%Y-%m-%d') # 3 months ago from today\n",
    "\n",
    "# Retrieve the services (dimension values) with costs or usage during the specified period\n",
    "response = ce_client.get_dimension_values(\n",
    "    TimePeriod={\n",
    "        'Start': start_date,\n",
    "        'End': end_date\n",
    "    },\n",
    "    Dimension='SERVICE'\n",
    ")\n",
    "\n",
    "# Print the results\n",
    "print(\"Services with costs or usage in the last 3 months:\")\n",
    "for service in response['DimensionValues']:\n",
    "    print(service['Value'])\n",
    "\n"
   ]
  },
  {
   "cell_type": "markdown",
   "id": "804dd5b0",
   "metadata": {},
   "source": [
    "### Both Service and Costs"
   ]
  },
  {
   "cell_type": "code",
   "execution_count": 4,
   "id": "1fbd1035",
   "metadata": {},
   "outputs": [
    {
     "name": "stdout",
     "output_type": "stream",
     "text": [
      "Time Period: 2023-06-20 to 2023-07-01\n",
      "Amazon Simple Storage Service: $0\n",
      "AmazonCloudWatch: $0\n",
      "\n",
      "\n",
      "Time Period: 2023-07-01 to 2023-08-01\n",
      "Amazon Simple Storage Service: $0.0082289593\n",
      "AmazonCloudWatch: $0\n",
      "Tax: $0\n",
      "\n",
      "\n",
      "Time Period: 2023-08-01 to 2023-09-01\n",
      "AWS Key Management Service: $0\n",
      "AWS Lambda: $0\n",
      "Amazon DynamoDB: $0\n",
      "EC2 - Other: $0.0012344683\n",
      "Amazon Elastic Compute Cloud - Compute: $0.0060561744\n",
      "Amazon Simple Notification Service: $0\n",
      "Amazon Simple Storage Service: $0.00936056\n",
      "Amazon Virtual Private Cloud: $0\n",
      "AmazonCloudWatch: $0\n",
      "Tax: $0\n",
      "\n",
      "\n",
      "Time Period: 2023-09-01 to 2023-09-18\n",
      "AWS Lambda: $0\n",
      "Amazon DynamoDB: $0\n",
      "Amazon Polly: $0.006588\n",
      "Amazon Rekognition: $0.00075\n",
      "Amazon Simple Storage Service: $0.0045937329\n",
      "Amazon Transcribe: $0.012\n",
      "Amazon Translate: $0.007935\n",
      "AmazonCloudWatch: $0\n",
      "Tax: $0\n",
      "\n",
      "\n"
     ]
    }
   ],
   "source": [
    "import boto3\n",
    "from datetime import datetime, timedelta\n",
    "\n",
    "# Initialize the boto3 Cost Explorer client\n",
    "ce_client = boto3.client('ce')\n",
    "\n",
    "# Calculate the start and end dates for the last 3 months\n",
    "end_date = datetime.now().strftime('%Y-%m-%d') # today's date\n",
    "start_date = (datetime.now() - timedelta(days=90)).strftime('%Y-%m-%d') # 3 months ago from today\n",
    "\n",
    "# Retrieve the cost per service\n",
    "response = ce_client.get_cost_and_usage(\n",
    "    TimePeriod={\n",
    "        'Start': start_date,\n",
    "        'End': end_date\n",
    "    },\n",
    "    Granularity='MONTHLY',\n",
    "    Metrics=['UnblendedCost'],\n",
    "    GroupBy=[\n",
    "        {\n",
    "            'Type': 'DIMENSION',\n",
    "            'Key': 'SERVICE'\n",
    "        }\n",
    "    ]\n",
    ")\n",
    "\n",
    "# Print the results\n",
    "for item in response['ResultsByTime']:\n",
    "    print(f\"Time Period: {item['TimePeriod']['Start']} to {item['TimePeriod']['End']}\")\n",
    "    for group in item['Groups']:\n",
    "        service_name = group['Keys'][0]\n",
    "        cost = group['Metrics']['UnblendedCost']['Amount']\n",
    "        print(f\"{service_name}: ${cost}\")\n",
    "    print(\"\\n\")\n",
    "\n"
   ]
  },
  {
   "cell_type": "markdown",
   "id": "ef9a2048",
   "metadata": {},
   "source": [
    "## Forecasted Costs"
   ]
  },
  {
   "cell_type": "code",
   "execution_count": 5,
   "id": "da99f272",
   "metadata": {},
   "outputs": [
    {
     "name": "stdout",
     "output_type": "stream",
     "text": [
      "Forecasted cost for the next month: $0.07586673290000003\n"
     ]
    }
   ],
   "source": [
    "import boto3\n",
    "from datetime import datetime, timedelta\n",
    "\n",
    "# Initialize the boto3 Cost Explorer client\n",
    "ce_client = boto3.client('ce')\n",
    "\n",
    "# Calculate the start and end dates for the next month\n",
    "start_date = (datetime.now() + timedelta(days=1)).strftime('%Y-%m-%d') # tomorrow's date\n",
    "end_date = (datetime.now() + timedelta(days=31)).strftime('%Y-%m-%d') # 1 month from tomorrow\n",
    "\n",
    "# Retrieve the forecasted cost for the next month\n",
    "response = ce_client.get_cost_forecast(\n",
    "    TimePeriod={\n",
    "        'Start': start_date,\n",
    "        'End': end_date\n",
    "    },\n",
    "    Metric='UNBLENDED_COST',\n",
    "    Granularity='MONTHLY'\n",
    ")\n",
    "\n",
    "# Print the forecasted cost\n",
    "forecasted_cost = response['Total']['Amount']\n",
    "print(f\"Forecasted cost for the next month: ${forecasted_cost}\")\n"
   ]
  },
  {
   "cell_type": "code",
   "execution_count": null,
   "id": "573f7e0b",
   "metadata": {},
   "outputs": [],
   "source": []
  }
 ],
 "metadata": {
  "kernelspec": {
   "display_name": "Python 3 (ipykernel)",
   "language": "python",
   "name": "python3"
  },
  "language_info": {
   "codemirror_mode": {
    "name": "ipython",
    "version": 3
   },
   "file_extension": ".py",
   "mimetype": "text/x-python",
   "name": "python",
   "nbconvert_exporter": "python",
   "pygments_lexer": "ipython3",
   "version": "3.10.0"
  }
 },
 "nbformat": 4,
 "nbformat_minor": 5
}
